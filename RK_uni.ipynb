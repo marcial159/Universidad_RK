{
 "cells": [
  {
   "cell_type": "markdown",
   "metadata": {
    "id": "W1B8YGw-mXLZ"
   },
   "source": [
    "# Primera Parte: Carga de Datos"
   ]
  },
  {
   "cell_type": "code",
<<<<<<< HEAD
   "execution_count": 70,
=======
   "execution_count": 300,
>>>>>>> upstream/main
   "metadata": {},
   "outputs": [],
   "source": [
    "import pandas as pd"
   ]
  },
  {
   "cell_type": "code",
<<<<<<< HEAD
   "execution_count": 71,
=======
   "execution_count": 301,
>>>>>>> upstream/main
   "metadata": {},
   "outputs": [
    {
     "name": "stdout",
     "output_type": "stream",
     "text": [
      "<class 'pandas.core.frame.DataFrame'>\n",
      "RangeIndex: 6482 entries, 0 to 6481\n",
      "Data columns (total 15 columns):\n",
      " #   Column                  Non-Null Count  Dtype  \n",
      "---  ------                  --------------  -----  \n",
      " 0   university              6482 non-null   object \n",
      " 1   year                    6482 non-null   int64  \n",
      " 2   rank_display            6414 non-null   object \n",
      " 3   score                   2820 non-null   float64\n",
      " 4   link                    6482 non-null   object \n",
      " 5   country                 6482 non-null   object \n",
      " 6   city                    6304 non-null   object \n",
      " 7   region                  6482 non-null   object \n",
      " 8   logo                    6482 non-null   object \n",
      " 9   type                    6470 non-null   object \n",
      " 10  research_output         6480 non-null   object \n",
      " 11  student_faculty_ratio   6407 non-null   float64\n",
      " 12  international_students  6318 non-null   object \n",
      " 13  size                    6480 non-null   object \n",
      " 14  faculty_count           6404 non-null   object \n",
      "dtypes: float64(2), int64(1), object(12)\n",
      "memory usage: 759.7+ KB\n"
     ]
    }
   ],
   "source": [
    "# En esta parte se carga la Data y se visualiza la cantidad de campos que se tiene en la data.\n",
    "Uni=pd.read_csv('qs-world-university-rankings-2017-to-2022-V2.csv')\n",
    "Uni.head()\n",
    "Uni.info()\n",
    "Uni = Uni[Uni.year == 2022]"
   ]
  },
  {
   "cell_type": "markdown",
   "metadata": {},
   "source": [
    "# Segunda Parte: Limpieza de Datos"
   ]
  },
  {
   "cell_type": "code",
<<<<<<< HEAD
   "execution_count": 72,
=======
   "execution_count": 302,
>>>>>>> upstream/main
   "metadata": {},
   "outputs": [],
   "source": [
    "#Seleccionando los campos con los que se va a trabajar.\n",
    "Uni=Uni[['research_output','international_students','type','score',]]"
   ]
  },
  {
   "cell_type": "code",
<<<<<<< HEAD
   "execution_count": 73,
=======
   "execution_count": 303,
>>>>>>> upstream/main
   "metadata": {},
   "outputs": [
    {
     "data": {
      "text/plain": [
       "research_output             0\n",
       "international_students     29\n",
       "type                        0\n",
       "score                     799\n",
       "dtype: int64"
      ]
     },
<<<<<<< HEAD
     "execution_count": 73,
=======
     "execution_count": 303,
>>>>>>> upstream/main
     "metadata": {},
     "output_type": "execute_result"
    }
   ],
   "source": [
    "#ver el numero de registros null.\n",
    "Uni.isna().sum()"
   ]
  },
  {
   "cell_type": "code",
<<<<<<< HEAD
   "execution_count": 74,
=======
   "execution_count": 304,
>>>>>>> upstream/main
   "metadata": {},
   "outputs": [
    {
     "data": {
      "text/html": [
       "<div>\n",
       "<style scoped>\n",
       "    .dataframe tbody tr th:only-of-type {\n",
       "        vertical-align: middle;\n",
       "    }\n",
       "\n",
       "    .dataframe tbody tr th {\n",
       "        vertical-align: top;\n",
       "    }\n",
       "\n",
       "    .dataframe thead th {\n",
       "        text-align: right;\n",
       "    }\n",
       "</style>\n",
       "<table border=\"1\" class=\"dataframe\">\n",
       "  <thead>\n",
       "    <tr style=\"text-align: right;\">\n",
       "      <th></th>\n",
       "      <th>research_output</th>\n",
       "      <th>international_students</th>\n",
       "      <th>type</th>\n",
       "      <th>score</th>\n",
       "    </tr>\n",
       "  </thead>\n",
       "  <tbody>\n",
       "    <tr>\n",
       "      <th>5182</th>\n",
       "      <td>Very High</td>\n",
       "      <td>3,730</td>\n",
       "      <td>Private</td>\n",
       "      <td>100.0</td>\n",
       "    </tr>\n",
       "    <tr>\n",
       "      <th>5183</th>\n",
       "      <td>Very High</td>\n",
       "      <td>8,442</td>\n",
       "      <td>Public</td>\n",
       "      <td>99.5</td>\n",
       "    </tr>\n",
       "    <tr>\n",
       "      <th>5184</th>\n",
       "      <td>Very High</td>\n",
       "      <td>3,879</td>\n",
       "      <td>Private</td>\n",
       "      <td>98.7</td>\n",
       "    </tr>\n",
       "    <tr>\n",
       "      <th>5185</th>\n",
       "      <td>Very high</td>\n",
       "      <td>7,925</td>\n",
       "      <td>Public</td>\n",
       "      <td>98.7</td>\n",
       "    </tr>\n",
       "    <tr>\n",
       "      <th>5186</th>\n",
       "      <td>Very High</td>\n",
       "      <td>5,877</td>\n",
       "      <td>Private</td>\n",
       "      <td>98.0</td>\n",
       "    </tr>\n",
       "    <tr>\n",
       "      <th>...</th>\n",
       "      <td>...</td>\n",
       "      <td>...</td>\n",
       "      <td>...</td>\n",
       "      <td>...</td>\n",
       "    </tr>\n",
       "    <tr>\n",
       "      <th>6477</th>\n",
       "      <td>High</td>\n",
       "      <td>57</td>\n",
       "      <td>Public</td>\n",
       "      <td>NaN</td>\n",
       "    </tr>\n",
       "    <tr>\n",
       "      <th>6478</th>\n",
       "      <td>Very High</td>\n",
       "      <td>585</td>\n",
       "      <td>Public</td>\n",
       "      <td>NaN</td>\n",
       "    </tr>\n",
       "    <tr>\n",
       "      <th>6479</th>\n",
       "      <td>Medium</td>\n",
       "      <td>2,826</td>\n",
       "      <td>Public</td>\n",
       "      <td>NaN</td>\n",
       "    </tr>\n",
       "    <tr>\n",
       "      <th>6480</th>\n",
       "      <td>High</td>\n",
       "      <td>2,394</td>\n",
       "      <td>Public</td>\n",
       "      <td>NaN</td>\n",
       "    </tr>\n",
       "    <tr>\n",
       "      <th>6481</th>\n",
       "      <td>High</td>\n",
       "      <td>2,300</td>\n",
       "      <td>Public</td>\n",
       "      <td>NaN</td>\n",
       "    </tr>\n",
       "  </tbody>\n",
       "</table>\n",
       "<p>1300 rows × 4 columns</p>\n",
       "</div>"
      ],
      "text/plain": [
       "     research_output international_students     type  score\n",
       "5182       Very High                  3,730  Private  100.0\n",
       "5183       Very High                  8,442   Public   99.5\n",
       "5184       Very High                  3,879  Private   98.7\n",
       "5185       Very high                  7,925   Public   98.7\n",
       "5186       Very High                  5,877  Private   98.0\n",
       "...              ...                    ...      ...    ...\n",
       "6477            High                     57   Public    NaN\n",
       "6478       Very High                    585   Public    NaN\n",
       "6479          Medium                  2,826   Public    NaN\n",
       "6480            High                  2,394   Public    NaN\n",
       "6481            High                  2,300   Public    NaN\n",
       "\n",
       "[1300 rows x 4 columns]"
      ]
     },
<<<<<<< HEAD
     "execution_count": 74,
=======
     "execution_count": 304,
>>>>>>> upstream/main
     "metadata": {},
     "output_type": "execute_result"
    }
   ],
   "source": [
    "Uni"
   ]
  },
  {
   "cell_type": "code",
<<<<<<< HEAD
   "execution_count": 75,
=======
   "execution_count": 305,
>>>>>>> upstream/main
   "metadata": {},
   "outputs": [
    {
     "data": {
      "text/plain": [
       "research_output            0\n",
       "international_students    29\n",
       "type                       0\n",
       "score                      0\n",
       "dtype: int64"
      ]
     },
<<<<<<< HEAD
     "execution_count": 75,
=======
     "execution_count": 305,
>>>>>>> upstream/main
     "metadata": {},
     "output_type": "execute_result"
    }
   ],
   "source": [
    "#Llenando los campos nulos con la media del campo score.\n",
    "Uni['score'] = Uni['score'].fillna(Uni['score'].mean())\n",
    "Uni.isna().sum()"
   ]
  },
  {
   "cell_type": "code",
<<<<<<< HEAD
   "execution_count": 76,
=======
   "execution_count": 306,
>>>>>>> upstream/main
   "metadata": {},
   "outputs": [],
   "source": [
    "#llenando de el tipo de universidad con private o public. \n",
    "import random as rd\n",
    "tipos=['private','public']\n",
    "def filltype(tipo):\n",
    " i=rd.randint(0,1) # rango de 0 a 1\n",
    " tipo=tipos[i]\n",
    " return tipo\n",
    "Uni['type'] = Uni['type'].fillna(Uni['type'].apply(filltype))"
   ]
  },
  {
   "cell_type": "code",
<<<<<<< HEAD
   "execution_count": 77,
=======
   "execution_count": 307,
>>>>>>> upstream/main
   "metadata": {},
   "outputs": [
    {
     "data": {
      "text/html": [
       "<div>\n",
       "<style scoped>\n",
       "    .dataframe tbody tr th:only-of-type {\n",
       "        vertical-align: middle;\n",
       "    }\n",
       "\n",
       "    .dataframe tbody tr th {\n",
       "        vertical-align: top;\n",
       "    }\n",
       "\n",
       "    .dataframe thead th {\n",
       "        text-align: right;\n",
       "    }\n",
       "</style>\n",
       "<table border=\"1\" class=\"dataframe\">\n",
       "  <thead>\n",
       "    <tr style=\"text-align: right;\">\n",
       "      <th></th>\n",
       "      <th>research_output</th>\n",
       "      <th>international_students</th>\n",
       "      <th>type</th>\n",
       "      <th>score</th>\n",
       "    </tr>\n",
       "  </thead>\n",
       "  <tbody>\n",
       "    <tr>\n",
       "      <th>5182</th>\n",
       "      <td>Very High</td>\n",
       "      <td>3,730</td>\n",
       "      <td>Private</td>\n",
       "      <td>100.000000</td>\n",
       "    </tr>\n",
       "    <tr>\n",
       "      <th>5183</th>\n",
       "      <td>Very High</td>\n",
       "      <td>8,442</td>\n",
       "      <td>Public</td>\n",
       "      <td>99.500000</td>\n",
       "    </tr>\n",
       "    <tr>\n",
       "      <th>5184</th>\n",
       "      <td>Very High</td>\n",
       "      <td>3,879</td>\n",
       "      <td>Private</td>\n",
       "      <td>98.700000</td>\n",
       "    </tr>\n",
       "    <tr>\n",
       "      <th>5185</th>\n",
       "      <td>Very high</td>\n",
       "      <td>7,925</td>\n",
       "      <td>Public</td>\n",
       "      <td>98.700000</td>\n",
       "    </tr>\n",
       "    <tr>\n",
       "      <th>5186</th>\n",
       "      <td>Very High</td>\n",
       "      <td>5,877</td>\n",
       "      <td>Private</td>\n",
       "      <td>98.000000</td>\n",
       "    </tr>\n",
       "    <tr>\n",
       "      <th>...</th>\n",
       "      <td>...</td>\n",
       "      <td>...</td>\n",
       "      <td>...</td>\n",
       "      <td>...</td>\n",
       "    </tr>\n",
       "    <tr>\n",
       "      <th>6477</th>\n",
       "      <td>High</td>\n",
       "      <td>57</td>\n",
       "      <td>Public</td>\n",
       "      <td>44.767066</td>\n",
       "    </tr>\n",
       "    <tr>\n",
       "      <th>6478</th>\n",
       "      <td>Very High</td>\n",
       "      <td>585</td>\n",
       "      <td>Public</td>\n",
       "      <td>44.767066</td>\n",
       "    </tr>\n",
       "    <tr>\n",
       "      <th>6479</th>\n",
       "      <td>Medium</td>\n",
       "      <td>2,826</td>\n",
       "      <td>Public</td>\n",
       "      <td>44.767066</td>\n",
       "    </tr>\n",
       "    <tr>\n",
       "      <th>6480</th>\n",
       "      <td>High</td>\n",
       "      <td>2,394</td>\n",
       "      <td>Public</td>\n",
       "      <td>44.767066</td>\n",
       "    </tr>\n",
       "    <tr>\n",
       "      <th>6481</th>\n",
       "      <td>High</td>\n",
       "      <td>2,300</td>\n",
       "      <td>Public</td>\n",
       "      <td>44.767066</td>\n",
       "    </tr>\n",
       "  </tbody>\n",
       "</table>\n",
       "<p>1300 rows × 4 columns</p>\n",
       "</div>"
      ],
      "text/plain": [
       "     research_output international_students     type       score\n",
       "5182       Very High                  3,730  Private  100.000000\n",
       "5183       Very High                  8,442   Public   99.500000\n",
       "5184       Very High                  3,879  Private   98.700000\n",
       "5185       Very high                  7,925   Public   98.700000\n",
       "5186       Very High                  5,877  Private   98.000000\n",
       "...              ...                    ...      ...         ...\n",
       "6477            High                     57   Public   44.767066\n",
       "6478       Very High                    585   Public   44.767066\n",
       "6479          Medium                  2,826   Public   44.767066\n",
       "6480            High                  2,394   Public   44.767066\n",
       "6481            High                  2,300   Public   44.767066\n",
       "\n",
       "[1300 rows x 4 columns]"
      ]
     },
<<<<<<< HEAD
     "execution_count": 77,
=======
     "execution_count": 307,
>>>>>>> upstream/main
     "metadata": {},
     "output_type": "execute_result"
    }
   ],
   "source": [
    "Uni"
   ]
  },
  {
   "cell_type": "code",
<<<<<<< HEAD
   "execution_count": 78,
=======
   "execution_count": 308,
>>>>>>> upstream/main
   "metadata": {},
   "outputs": [
    {
     "data": {
      "text/plain": [
       "research_output            0\n",
       "international_students    29\n",
       "type                       0\n",
       "score                      0\n",
       "dtype: int64"
      ]
     },
<<<<<<< HEAD
     "execution_count": 78,
=======
     "execution_count": 308,
>>>>>>> upstream/main
     "metadata": {},
     "output_type": "execute_result"
    }
   ],
   "source": [
    "Uni.isna().sum()"
   ]
  },
  {
   "cell_type": "code",
<<<<<<< HEAD
   "execution_count": 79,
=======
   "execution_count": 309,
>>>>>>> upstream/main
   "metadata": {},
   "outputs": [],
   "source": [
    "quality=['very high','medium','high','low']\n",
    "def fillquality(tipo):\n",
    " i=rd.randint(0,3)\n",
    " tipo=quality[i]\n",
    " return tipo\n",
    "Uni['research_output'] = Uni['research_output'].fillna(Uni['research_output'].apply(fillquality))"
   ]
  },
  {
   "cell_type": "code",
<<<<<<< HEAD
   "execution_count": 80,
=======
   "execution_count": 310,
>>>>>>> upstream/main
   "metadata": {},
   "outputs": [],
   "source": [
    "Uni.isna().sum()\n",
    "#estandarizando los datos \"reasearch_output y type\" a minuscula\n",
    "Uni['research_output']=Uni['research_output'].str.lower()\n",
    "Uni['type'] = Uni['type'].str.lower()"
   ]
  },
  {
   "cell_type": "code",
<<<<<<< HEAD
   "execution_count": 81,
=======
   "execution_count": 311,
>>>>>>> upstream/main
   "metadata": {},
   "outputs": [
    {
     "data": {
      "text/html": [
       "<div>\n",
       "<style scoped>\n",
       "    .dataframe tbody tr th:only-of-type {\n",
       "        vertical-align: middle;\n",
       "    }\n",
       "\n",
       "    .dataframe tbody tr th {\n",
       "        vertical-align: top;\n",
       "    }\n",
       "\n",
       "    .dataframe thead th {\n",
       "        text-align: right;\n",
       "    }\n",
       "</style>\n",
       "<table border=\"1\" class=\"dataframe\">\n",
       "  <thead>\n",
       "    <tr style=\"text-align: right;\">\n",
       "      <th></th>\n",
       "      <th>research_output</th>\n",
       "      <th>international_students</th>\n",
       "      <th>type</th>\n",
       "      <th>score</th>\n",
       "    </tr>\n",
       "  </thead>\n",
       "  <tbody>\n",
       "    <tr>\n",
       "      <th>5182</th>\n",
       "      <td>very high</td>\n",
       "      <td>3,730</td>\n",
       "      <td>private</td>\n",
       "      <td>100.0</td>\n",
       "    </tr>\n",
       "    <tr>\n",
       "      <th>5183</th>\n",
       "      <td>very high</td>\n",
       "      <td>8,442</td>\n",
       "      <td>public</td>\n",
       "      <td>99.5</td>\n",
       "    </tr>\n",
       "    <tr>\n",
       "      <th>5184</th>\n",
       "      <td>very high</td>\n",
       "      <td>3,879</td>\n",
       "      <td>private</td>\n",
       "      <td>98.7</td>\n",
       "    </tr>\n",
       "    <tr>\n",
       "      <th>5185</th>\n",
       "      <td>very high</td>\n",
       "      <td>7,925</td>\n",
       "      <td>public</td>\n",
       "      <td>98.7</td>\n",
       "    </tr>\n",
       "    <tr>\n",
       "      <th>5186</th>\n",
       "      <td>very high</td>\n",
       "      <td>5,877</td>\n",
       "      <td>private</td>\n",
       "      <td>98.0</td>\n",
       "    </tr>\n",
       "    <tr>\n",
       "      <th>5187</th>\n",
       "      <td>very high</td>\n",
       "      <td>692</td>\n",
       "      <td>private</td>\n",
       "      <td>97.4</td>\n",
       "    </tr>\n",
       "    <tr>\n",
       "      <th>5188</th>\n",
       "      <td>very high</td>\n",
       "      <td>11,143</td>\n",
       "      <td>public</td>\n",
       "      <td>97.3</td>\n",
       "    </tr>\n",
       "    <tr>\n",
       "      <th>5189</th>\n",
       "      <td>very high</td>\n",
       "      <td>7,733</td>\n",
       "      <td>public</td>\n",
       "      <td>95.4</td>\n",
       "    </tr>\n",
       "    <tr>\n",
       "      <th>5190</th>\n",
       "      <td>very high</td>\n",
       "      <td>21,824</td>\n",
       "      <td>public</td>\n",
       "      <td>95.4</td>\n",
       "    </tr>\n",
       "    <tr>\n",
       "      <th>5191</th>\n",
       "      <td>very high</td>\n",
       "      <td>4,696</td>\n",
       "      <td>private</td>\n",
       "      <td>94.5</td>\n",
       "    </tr>\n",
       "    <tr>\n",
       "      <th>5192</th>\n",
       "      <td>very high</td>\n",
       "      <td>7,551</td>\n",
       "      <td>public</td>\n",
       "      <td>93.9</td>\n",
       "    </tr>\n",
       "    <tr>\n",
       "      <th>5193</th>\n",
       "      <td>very high</td>\n",
       "      <td>6,091</td>\n",
       "      <td>public</td>\n",
       "      <td>90.8</td>\n",
       "    </tr>\n",
       "    <tr>\n",
       "      <th>5194</th>\n",
       "      <td>very high</td>\n",
       "      <td>4,636</td>\n",
       "      <td>private</td>\n",
       "      <td>90.7</td>\n",
       "    </tr>\n",
       "    <tr>\n",
       "      <th>5195</th>\n",
       "      <td>very high</td>\n",
       "      <td>6,426</td>\n",
       "      <td>public</td>\n",
       "      <td>90.2</td>\n",
       "    </tr>\n",
       "    <tr>\n",
       "      <th>5196</th>\n",
       "      <td>very high</td>\n",
       "      <td>2,537</td>\n",
       "      <td>private</td>\n",
       "      <td>90.2</td>\n",
       "    </tr>\n",
       "    <tr>\n",
       "      <th>5197</th>\n",
       "      <td>very high</td>\n",
       "      <td>14,637</td>\n",
       "      <td>public</td>\n",
       "      <td>89.9</td>\n",
       "    </tr>\n",
       "    <tr>\n",
       "      <th>5198</th>\n",
       "      <td>very high</td>\n",
       "      <td>5,420</td>\n",
       "      <td>public</td>\n",
       "      <td>89.0</td>\n",
       "    </tr>\n",
       "    <tr>\n",
       "      <th>5199</th>\n",
       "      <td>very high</td>\n",
       "      <td>5,436</td>\n",
       "      <td>public</td>\n",
       "      <td>88.8</td>\n",
       "    </tr>\n",
       "    <tr>\n",
       "      <th>5200</th>\n",
       "      <td>very high</td>\n",
       "      <td>11,252</td>\n",
       "      <td>private</td>\n",
       "      <td>88.7</td>\n",
       "    </tr>\n",
       "    <tr>\n",
       "      <th>5201</th>\n",
       "      <td>very high</td>\n",
       "      <td>1,912</td>\n",
       "      <td>private</td>\n",
       "      <td>88.6</td>\n",
       "    </tr>\n",
       "  </tbody>\n",
       "</table>\n",
       "</div>"
      ],
      "text/plain": [
       "     research_output international_students     type  score\n",
       "5182       very high                  3,730  private  100.0\n",
       "5183       very high                  8,442   public   99.5\n",
       "5184       very high                  3,879  private   98.7\n",
       "5185       very high                  7,925   public   98.7\n",
       "5186       very high                  5,877  private   98.0\n",
       "5187       very high                    692  private   97.4\n",
       "5188       very high                 11,143   public   97.3\n",
       "5189       very high                  7,733   public   95.4\n",
       "5190       very high                 21,824   public   95.4\n",
       "5191       very high                  4,696  private   94.5\n",
       "5192       very high                  7,551   public   93.9\n",
       "5193       very high                  6,091   public   90.8\n",
       "5194       very high                  4,636  private   90.7\n",
       "5195       very high                  6,426   public   90.2\n",
       "5196       very high                  2,537  private   90.2\n",
       "5197       very high                 14,637   public   89.9\n",
       "5198       very high                  5,420   public   89.0\n",
       "5199       very high                  5,436   public   88.8\n",
       "5200       very high                 11,252  private   88.7\n",
       "5201       very high                  1,912  private   88.6"
      ]
     },
<<<<<<< HEAD
     "execution_count": 81,
=======
     "execution_count": 311,
>>>>>>> upstream/main
     "metadata": {},
     "output_type": "execute_result"
    }
   ],
   "source": [
    "Uni.head(20)"
   ]
  },
  {
   "cell_type": "code",
<<<<<<< HEAD
   "execution_count": 82,
=======
   "execution_count": 312,
>>>>>>> upstream/main
   "metadata": {},
   "outputs": [],
   "source": [
    "import re\n",
    "#Limpiando los puntos y comas del campo international_students\n",
    "Uni['international_students']=Uni['international_students'].str.replace(re.compile('[\\.,]'),'')"
   ]
  },
  {
   "cell_type": "code",
<<<<<<< HEAD
   "execution_count": 83,
=======
   "execution_count": 313,
>>>>>>> upstream/main
   "metadata": {},
   "outputs": [],
   "source": [
    "#llenado del campo international_students con valores de rango [1000-25000]\n",
    "def fillstudents(tipo):\n",
    " i=rd.randint(1000,25000)\n",
    " return str(i)\n",
    "Uni['international_students']= Uni['international_students'].fillna(Uni['international_students'].apply(fillstudents))"
   ]
  },
  {
   "cell_type": "code",
<<<<<<< HEAD
   "execution_count": 84,
=======
   "execution_count": 314,
>>>>>>> upstream/main
   "metadata": {},
   "outputs": [
    {
     "data": {
      "text/plain": [
       "research_output           0\n",
       "international_students    0\n",
       "type                      0\n",
       "score                     0\n",
       "dtype: int64"
      ]
     },
<<<<<<< HEAD
     "execution_count": 84,
=======
     "execution_count": 314,
>>>>>>> upstream/main
     "metadata": {},
     "output_type": "execute_result"
    }
   ],
   "source": [
    "#visualizacon de los campos a utilizar\n",
    "Uni.isna().sum()"
   ]
  },
  {
   "cell_type": "code",
<<<<<<< HEAD
   "execution_count": 85,
=======
   "execution_count": 315,
>>>>>>> upstream/main
   "metadata": {},
   "outputs": [
    {
     "name": "stdout",
     "output_type": "stream",
     "text": [
      "<class 'pandas.core.frame.DataFrame'>\n",
      "Int64Index: 1300 entries, 5182 to 6481\n",
      "Data columns (total 4 columns):\n",
      " #   Column                  Non-Null Count  Dtype  \n",
      "---  ------                  --------------  -----  \n",
      " 0   research_output         1300 non-null   object \n",
      " 1   international_students  1300 non-null   int64  \n",
      " 2   type                    1300 non-null   object \n",
      " 3   score                   1300 non-null   float64\n",
      "dtypes: float64(1), int64(1), object(2)\n",
      "memory usage: 50.8+ KB\n"
     ]
    }
   ],
   "source": [
    "#comvercion del campo international_students  de string a int\n",
    "Uni['international_students']=Uni['international_students'].astype(int)\n",
    "Uni.info()"
   ]
  },
  {
   "cell_type": "markdown",
   "metadata": {},
   "source": [
    "# Tercera Parte: Normalizacion de Datos"
   ]
  },
  {
   "cell_type": "code",
<<<<<<< HEAD
   "execution_count": 86,
=======
   "execution_count": 318,
>>>>>>> upstream/main
   "metadata": {},
   "outputs": [
    {
     "name": "stdout",
     "output_type": "stream",
     "text": [
      "          score\n",
      "5920  44.767066\n",
      "5978  44.767066\n",
      "5840  44.767066\n",
      "5913  44.767066\n",
      "5880  44.767066 \n",
      "      research_output  international_students    type\n",
      "5920            high                    1746  public\n",
      "5978            high                    1115  public\n",
      "5840       very high                     621  public\n",
      "5913       very high                     562  public\n",
      "5880            high                    1287  public\n"
     ]
    }
   ],
   "source": [
    "import sklearn\n",
    "Uni_shuffle = sklearn.utils.shuffle(Uni)\n",
    "trainDatax = Uni_shuffle[['research_output','international_students','type']].copy()\n",
    "trainDatay = Uni_shuffle[['score']].copy()\n",
    "print(trainDatay.head(),\"\\n\", trainDatax.head())"
   ]
  },
  {
   "cell_type": "code",
<<<<<<< HEAD
   "execution_count": 87,
=======
   "execution_count": 319,
>>>>>>> upstream/main
   "metadata": {},
   "outputs": [
    {
     "data": {
      "text/plain": [
       "Index(['private', 'public'], dtype='object')"
      ]
     },
<<<<<<< HEAD
     "execution_count": 87,
=======
     "execution_count": 319,
>>>>>>> upstream/main
     "metadata": {},
     "output_type": "execute_result"
    }
   ],
   "source": [
    "trainDatax['type'], categoryType = trainDatax['type'].factorize(sort=True)\n",
    "categoryType"
   ]
  },
  {
   "cell_type": "code",
<<<<<<< HEAD
   "execution_count": 88,
=======
   "execution_count": 320,
>>>>>>> upstream/main
   "metadata": {},
   "outputs": [
    {
     "data": {
      "text/plain": [
       "5920    1\n",
       "5978    1\n",
       "5840    1\n",
       "5913    1\n",
       "5880    1\n",
       "       ..\n",
       "5872    1\n",
       "5931    1\n",
       "5583    0\n",
       "5431    1\n",
       "6289    1\n",
       "Name: type, Length: 1300, dtype: int64"
      ]
     },
<<<<<<< HEAD
     "execution_count": 88,
=======
     "execution_count": 320,
>>>>>>> upstream/main
     "metadata": {},
     "output_type": "execute_result"
    }
   ],
   "source": [
    "trainDatax.type"
   ]
  },
  {
   "cell_type": "code",
<<<<<<< HEAD
   "execution_count": 89,
   "metadata": {},
   "outputs": [
    {
     "ename": "NameError",
     "evalue": "name 'categoryResearch' is not defined",
     "output_type": "error",
     "traceback": [
      "\u001b[1;31m---------------------------------------------------------------------------\u001b[0m",
      "\u001b[1;31mNameError\u001b[0m                                 Traceback (most recent call last)",
      "Input \u001b[1;32mIn [89]\u001b[0m, in \u001b[0;36m<cell line: 2>\u001b[1;34m()\u001b[0m\n\u001b[0;32m      1\u001b[0m trainDatax[\u001b[38;5;124m'\u001b[39m\u001b[38;5;124mresearch_output\u001b[39m\u001b[38;5;124m'\u001b[39m], categoryReasearch \u001b[38;5;241m=\u001b[39m trainDatax[\u001b[38;5;124m'\u001b[39m\u001b[38;5;124mresearch_output\u001b[39m\u001b[38;5;124m'\u001b[39m]\u001b[38;5;241m.\u001b[39mfactorize(sort \u001b[38;5;241m=\u001b[39m \u001b[38;5;28;01mTrue\u001b[39;00m)\n\u001b[1;32m----> 2\u001b[0m \u001b[43mcategoryResearch\u001b[49m\n",
      "\u001b[1;31mNameError\u001b[0m: name 'categoryResearch' is not defined"
     ]
=======
   "execution_count": 321,
   "metadata": {},
   "outputs": [
    {
     "data": {
      "text/plain": [
       "Index(['high', 'low', 'medium', 'very high'], dtype='object')"
      ]
     },
     "execution_count": 321,
     "metadata": {},
     "output_type": "execute_result"
>>>>>>> upstream/main
    }
   ],
   "source": [
    "trainDatax['research_output'], categoryReasearch = trainDatax['research_output'].factorize(sort = True)\n",
    "categoryResearch"
   ]
  },
  {
   "cell_type": "code",
<<<<<<< HEAD
   "execution_count": 90,
=======
   "execution_count": 322,
>>>>>>> upstream/main
   "metadata": {},
   "outputs": [
    {
     "data": {
      "text/html": [
       "<div>\n",
       "<style scoped>\n",
       "    .dataframe tbody tr th:only-of-type {\n",
       "        vertical-align: middle;\n",
       "    }\n",
       "\n",
       "    .dataframe tbody tr th {\n",
       "        vertical-align: top;\n",
       "    }\n",
       "\n",
       "    .dataframe thead th {\n",
       "        text-align: right;\n",
       "    }\n",
       "</style>\n",
       "<table border=\"1\" class=\"dataframe\">\n",
       "  <thead>\n",
       "    <tr style=\"text-align: right;\">\n",
       "      <th></th>\n",
       "      <th>research_output</th>\n",
       "      <th>international_students</th>\n",
       "      <th>type</th>\n",
       "    </tr>\n",
       "  </thead>\n",
       "  <tbody>\n",
       "    <tr>\n",
       "      <th>5920</th>\n",
       "      <td>0</td>\n",
       "      <td>1746</td>\n",
       "      <td>1</td>\n",
       "    </tr>\n",
       "    <tr>\n",
       "      <th>5978</th>\n",
       "      <td>0</td>\n",
       "      <td>1115</td>\n",
       "      <td>1</td>\n",
       "    </tr>\n",
       "    <tr>\n",
       "      <th>5840</th>\n",
       "      <td>3</td>\n",
       "      <td>621</td>\n",
       "      <td>1</td>\n",
       "    </tr>\n",
       "    <tr>\n",
       "      <th>5913</th>\n",
       "      <td>3</td>\n",
       "      <td>562</td>\n",
       "      <td>1</td>\n",
       "    </tr>\n",
       "    <tr>\n",
       "      <th>5880</th>\n",
       "      <td>0</td>\n",
       "      <td>1287</td>\n",
       "      <td>1</td>\n",
       "    </tr>\n",
       "  </tbody>\n",
       "</table>\n",
       "</div>"
      ],
      "text/plain": [
       "      research_output  international_students  type\n",
       "5920                0                    1746     1\n",
       "5978                0                    1115     1\n",
       "5840                3                     621     1\n",
       "5913                3                     562     1\n",
       "5880                0                    1287     1"
      ]
     },
<<<<<<< HEAD
     "execution_count": 90,
=======
     "execution_count": 322,
>>>>>>> upstream/main
     "metadata": {},
     "output_type": "execute_result"
    }
   ],
   "source": [
    "trainDatax.head()"
   ]
  },
  {
   "cell_type": "code",
<<<<<<< HEAD
   "execution_count": 91,
=======
   "execution_count": 323,
>>>>>>> upstream/main
   "metadata": {},
   "outputs": [
    {
     "data": {
      "text/plain": [
       "(5920     (39.28, 46.87]\n",
       " 5978     (39.28, 46.87]\n",
       " 5840     (39.28, 46.87]\n",
       " 5913     (39.28, 46.87]\n",
       " 5880     (39.28, 46.87]\n",
       "              ...       \n",
       " 5872     (39.28, 46.87]\n",
       " 5931     (39.28, 46.87]\n",
       " 5583    (24.024, 31.69]\n",
       " 5431     (31.69, 39.28]\n",
       " 6289     (39.28, 46.87]\n",
       " Name: score, Length: 1300, dtype: category\n",
       " Categories (10, interval[float64, right]): [(24.024, 31.69] < (31.69, 39.28] < (39.28, 46.87] < (46.87, 54.46] ... (69.64, 77.23] < (77.23, 84.82] < (84.82, 92.41] < (92.41, 100.0]],\n",
       " array([ 24.0241,  31.69  ,  39.28  ,  46.87  ,  54.46  ,  62.05  ,\n",
       "         69.64  ,  77.23  ,  84.82  ,  92.41  , 100.    ]))"
      ]
     },
<<<<<<< HEAD
     "execution_count": 91,
=======
     "execution_count": 323,
>>>>>>> upstream/main
     "metadata": {},
     "output_type": "execute_result"
    }
   ],
   "source": [
    "# Etiquetando el campo score en intervalos\n",
    "pd.cut(trainDatay['score'],10,retbins = True)"
   ]
  },
  {
   "cell_type": "code",
<<<<<<< HEAD
   "execution_count": 92,
=======
   "execution_count": 324,
>>>>>>> upstream/main
   "metadata": {},
   "outputs": [],
   "source": [
    "trainDatay['score'] = pd.cut(trainDatay.score, [20,30,40,50,60,70,80,90,100])"
   ]
  },
  {
   "cell_type": "code",
<<<<<<< HEAD
   "execution_count": 93,
=======
   "execution_count": 325,
>>>>>>> upstream/main
   "metadata": {},
   "outputs": [
    {
     "data": {
      "text/html": [
       "<div>\n",
       "<style scoped>\n",
       "    .dataframe tbody tr th:only-of-type {\n",
       "        vertical-align: middle;\n",
       "    }\n",
       "\n",
       "    .dataframe tbody tr th {\n",
       "        vertical-align: top;\n",
       "    }\n",
       "\n",
       "    .dataframe thead th {\n",
       "        text-align: right;\n",
       "    }\n",
       "</style>\n",
       "<table border=\"1\" class=\"dataframe\">\n",
       "  <thead>\n",
       "    <tr style=\"text-align: right;\">\n",
       "      <th></th>\n",
       "      <th>score</th>\n",
       "    </tr>\n",
       "  </thead>\n",
       "  <tbody>\n",
       "    <tr>\n",
       "      <th>5920</th>\n",
       "      <td>(40, 50]</td>\n",
       "    </tr>\n",
       "    <tr>\n",
       "      <th>5212</th>\n",
       "      <td>(80, 90]</td>\n",
       "    </tr>\n",
       "    <tr>\n",
       "      <th>5510</th>\n",
       "      <td>(30, 40]</td>\n",
       "    </tr>\n",
       "    <tr>\n",
       "      <th>5432</th>\n",
       "      <td>(30, 40]</td>\n",
       "    </tr>\n",
       "    <tr>\n",
       "      <th>5366</th>\n",
       "      <td>(40, 50]</td>\n",
       "    </tr>\n",
       "    <tr>\n",
       "      <th>6010</th>\n",
       "      <td>(40, 50]</td>\n",
       "    </tr>\n",
       "    <tr>\n",
       "      <th>6149</th>\n",
       "      <td>(40, 50]</td>\n",
       "    </tr>\n",
       "  </tbody>\n",
       "</table>\n",
       "</div>"
      ],
      "text/plain": [
       "         score\n",
       "5920  (40, 50]\n",
       "5212  (80, 90]\n",
       "5510  (30, 40]\n",
       "5432  (30, 40]\n",
       "5366  (40, 50]\n",
       "6010  (40, 50]\n",
       "6149  (40, 50]"
      ]
     },
<<<<<<< HEAD
     "execution_count": 93,
=======
     "execution_count": 325,
>>>>>>> upstream/main
     "metadata": {},
     "output_type": "execute_result"
    }
   ],
   "source": [
    "trainDatay.iloc[0:100:15]"
   ]
  },
  {
   "cell_type": "code",
<<<<<<< HEAD
   "execution_count": 94,
=======
   "execution_count": 326,
>>>>>>> upstream/main
   "metadata": {},
   "outputs": [
    {
     "data": {
      "text/plain": [
       "CategoricalIndex([(20, 30], (30, 40], (40, 50], (50, 60], (60, 70], (70, 80],\n",
       "                  (80, 90], (90, 100]],\n",
       "                 categories=[(20, 30], (30, 40], (40, 50], (50, 60], (60, 70], (70, 80], (80, 90], (90, 100]], ordered=True, dtype='category')"
      ]
     },
<<<<<<< HEAD
     "execution_count": 94,
=======
     "execution_count": 326,
>>>>>>> upstream/main
     "metadata": {},
     "output_type": "execute_result"
    }
   ],
   "source": [
    "# Categorizando el campo score\n",
    "trainDatay['score'], categoryScore = trainDatay['score'].factorize(sort = True)\n",
    "categoryScore"
   ]
  },
  {
   "cell_type": "code",
<<<<<<< HEAD
   "execution_count": 95,
=======
   "execution_count": 327,
>>>>>>> upstream/main
   "metadata": {},
   "outputs": [],
   "source": [
    "from sklearn.preprocessing import StandardScaler"
   ]
  },
  {
   "cell_type": "code",
<<<<<<< HEAD
   "execution_count": 96,
=======
   "execution_count": 328,
>>>>>>> upstream/main
   "metadata": {},
   "outputs": [
    {
     "name": "stdout",
     "output_type": "stream",
     "text": [
<<<<<<< HEAD
      "[2.26087627e+00 3.25340019e+03 8.16260413e-01]\n"
=======
      "[2.14384615e+00 2.91879615e+03 8.10769231e-01]\n"
>>>>>>> upstream/main
     ]
    }
   ],
   "source": [
    "scaler = StandardScaler()\n",
    "scaler.fit(trainDatax)\n",
    "print(scaler.mean_)"
   ]
  },
  {
   "cell_type": "code",
<<<<<<< HEAD
   "execution_count": 97,
=======
   "execution_count": 329,
>>>>>>> upstream/main
   "metadata": {},
   "outputs": [
    {
     "data": {
      "text/plain": [
<<<<<<< HEAD
       "array([[ 0.59831889,  0.12093949, -2.10772041],\n",
       "       [ 0.59831889,  0.15874896, -2.10772041],\n",
       "       [ 0.59831889,  0.66575106, -2.10772041],\n",
       "       ...,\n",
       "       [-0.21117872, -0.10845485,  0.47444623],\n",
       "       [-1.83017394, -0.21807693,  0.47444623],\n",
       "       [-1.83017394, -0.24192988,  0.47444623]])"
      ]
     },
     "execution_count": 97,
=======
       "array([[-1.68592607, -0.30853593,  0.48311136],\n",
       "       [-1.68592607, -0.47453764,  0.48311136],\n",
       "       [ 0.67328156, -0.60449778,  0.48311136],\n",
       "       ...,\n",
       "       [-1.68592607, -0.68000093, -2.06991614],\n",
       "       [ 0.67328156, -0.33826365,  0.48311136],\n",
       "       [ 0.67328156, -0.55477619,  0.48311136]])"
      ]
     },
     "execution_count": 329,
>>>>>>> upstream/main
     "metadata": {},
     "output_type": "execute_result"
    }
   ],
   "source": [
    "trainDatax = scaler.fit_transform(trainDatax)\n",
    "trainDatax"
   ]
  },
  {
   "cell_type": "code",
<<<<<<< HEAD
   "execution_count": 98,
=======
   "execution_count": 330,
>>>>>>> upstream/main
   "metadata": {},
   "outputs": [
    {
     "name": "stdout",
     "output_type": "stream",
     "text": [
<<<<<<< HEAD
      "[0.41917899 0.29824907 0.28257194]\n"
=======
      "[0.4277141  0.29534048 0.27694542]\n"
>>>>>>> upstream/main
     ]
    }
   ],
   "source": [
    "from sklearn.decomposition import PCA\n",
    "pca = PCA(n_components=3)\n",
    "pca.fit(trainDatax)\n",
    "print(pca.explained_variance_ratio_)  "
   ]
  },
  {
   "cell_type": "code",
<<<<<<< HEAD
   "execution_count": 99,
=======
   "execution_count": 331,
>>>>>>> upstream/main
   "metadata": {},
   "outputs": [
    {
     "name": "stdout",
     "output_type": "stream",
     "text": [
<<<<<<< HEAD
      "[[ 0.59831889  0.12093949 -2.10772041]\n",
      " [ 0.59831889  0.15874896 -2.10772041]\n",
      " [ 0.59831889  0.66575106 -2.10772041]\n",
      " ...\n",
      " [-0.21117872 -0.10845485  0.47444623]\n",
      " [-1.83017394 -0.21807693  0.47444623]\n",
      " [-1.83017394 -0.24192988  0.47444623]]       score\n",
      "0         7\n",
      "1         7\n",
      "2         7\n",
      "3         7\n",
      "4         7\n",
=======
      "[[-1.68592607 -0.30853593  0.48311136]\n",
      " [-1.68592607 -0.47453764  0.48311136]\n",
      " [ 0.67328156 -0.60449778  0.48311136]\n",
      " ...\n",
      " [-1.68592607 -0.68000093 -2.06991614]\n",
      " [ 0.67328156 -0.33826365  0.48311136]\n",
      " [ 0.67328156 -0.55477619  0.48311136]]       score\n",
      "5920      2\n",
      "5978      2\n",
      "5840      2\n",
      "5913      2\n",
      "5880      2\n",
>>>>>>> upstream/main
      "...     ...\n",
      "5872      2\n",
      "5931      2\n",
      "5583      0\n",
      "5431      1\n",
      "6289      2\n",
      "\n",
      "[1300 rows x 1 columns]\n"
     ]
    }
   ],
   "source": [
    "print(trainDatax, trainDatay)"
   ]
  },
  {
   "cell_type": "code",
<<<<<<< HEAD
   "execution_count": 100,
=======
   "execution_count": 332,
>>>>>>> upstream/main
   "metadata": {},
   "outputs": [],
   "source": [
    "# Entrenar la RN\n",
    "import numpy as np\n",
    "from sklearn.model_selection import train_test_split"
   ]
  },
  {
   "cell_type": "code",
<<<<<<< HEAD
   "execution_count": 101,
=======
   "execution_count": 333,
>>>>>>> upstream/main
   "metadata": {},
   "outputs": [],
   "source": [
    "trainDatay=trainDatay.to_numpy()\n",
    "x_train, x_test, y_train, y_test= train_test_split(trainDatax, trainDatay, test_size=0.3)"
   ]
  },
  {
   "cell_type": "code",
<<<<<<< HEAD
   "execution_count": 102,
=======
   "execution_count": 334,
>>>>>>> upstream/main
   "metadata": {},
   "outputs": [
    {
     "name": "stdout",
     "output_type": "stream",
     "text": [
<<<<<<< HEAD
      "[[ 0.59831889  0.33206349  0.47444623]\n",
      " [-1.83017394 -0.32414643  0.47444623]\n",
      " [ 0.59831889 -0.69615098  0.47444623]\n",
      " [-1.83017394  0.09429524  0.47444623]\n",
      " [ 0.59831889 -0.37058356  0.47444623]] [[-1.83017394 -0.05059875  0.47444623]\n",
      " [ 0.59831889 -0.39849659  0.47444623]\n",
      " [ 0.59831889  1.98223098  0.47444623]\n",
      " [-0.21117872  1.58358218  0.47444623]\n",
      " [ 0.59831889 -0.05212128  0.47444623]] [[2]\n",
      " [2]\n",
      " [2]\n",
      " [2]\n",
      " [2]] [[2]\n",
      " [2]\n",
      " [4]\n",
      " [2]\n",
      " [2]]\n"
=======
      "[[ 0.67328156 -0.44796684  0.48311136]\n",
      " [-0.11312098 -0.74997947 -2.06991614]\n",
      " [ 0.67328156  1.12313019  0.48311136]\n",
      " [-1.68592607 -0.16358039  0.48311136]\n",
      " [ 0.67328156 -0.41245142  0.48311136]] [[ 0.67328156  0.47411874  0.48311136]\n",
      " [-1.68592607 -0.63027934  0.48311136]\n",
      " [ 0.67328156  0.46754181  0.48311136]\n",
      " [-0.11312098 -0.56608851 -2.06991614]\n",
      " [ 0.67328156  0.57645577  0.48311136]] [[2]\n",
      " [2]\n",
      " [3]\n",
      " [2]\n",
      " [2]] [[0]\n",
      " [2]\n",
      " [2]\n",
      " [2]\n",
      " [3]]\n"
>>>>>>> upstream/main
     ]
    }
   ],
   "source": [
    "print(x_train[0:5], x_test[0:5], y_train[0:5], y_test[0:5])"
   ]
  },
  {
   "cell_type": "code",
<<<<<<< HEAD
   "execution_count": 108,
=======
   "execution_count": 335,
>>>>>>> upstream/main
   "metadata": {},
   "outputs": [],
   "source": [
    "#import numpy as np\n",
    "\n",
    "def sigmoide(x):\n",
    "  return (1.0/(1.0+np.exp(-x)))\n",
    "def derivada(x):\n",
    "  return sigmoide(x)*(1.0-sigmoide(x))\n",
    "\n",
<<<<<<< HEAD
    "def neurona(entrada, pesosCO1, tendenciasC01, pesosCO2, tendenciasCO2, pesosCO3, tendenciasCO3,pesosCO4,tendenciasCO4, pesosCS, tendenciasCS):\n",
=======
    "def neurona(\n",
    "    entrada, pesosCO1, tendenciasC01, pesosCO2, tendenciasCO2 \n",
    "    ,pesosCO3, tendenciasCO3, pesosCO4, tendenciasCO4\n",
    "    ,pesosCO5, tendenciasCO5, pesosCO6, tendenciasCO6\n",
    "    ,pesosCO7, tendenciasCO7, pesosCO8, tendenciasCO8\n",
    "    ,pesosCO9, tendenciasCO9, pesosCO10, tendenciasCO10\n",
    "    ,pesosCO11, tendenciasCO11, pesosCO12, tendenciasCO12\n",
    "    ,pesosCS, tendenciasCS):\n",
>>>>>>> upstream/main
    "  entradaNetaC1=np.dot(pesosCO1, np.transpose(entrada))-tendenciasC01\n",
    "  salidaC1=sigmoide(entradaNetaC1)\n",
    "\n",
    "  entradaNetaC2 = np.dot(pesosCO2,salidaC1)-tendenciasCO2\n",
    "  salidaC2=sigmoide(entradaNetaC2)\n",
    "\n",
    "  entradaNetaC3 = np.dot(pesosCO3,salidaC2)-tendenciasCO3\n",
    "  salidaC3=sigmoide(entradaNetaC3)\n",
    "    \n",
    "  entradaNetaC4 = np.dot(pesosCO4,salidaC3)-tendenciasCO4\n",
<<<<<<< HEAD
    "  salidaC4=sigmoide(entradaNetaC4)  \n",
=======
    "  salidaC4=sigmoide(entradaNetaC4)\n",
    "    \n",
    "  entradaNetaC5 = np.dot(pesosCO5,salidaC4)-tendenciasCO5\n",
    "  salidaC5=sigmoide(entradaNetaC5)\n",
    "\n",
    "  entradaNetaC6 = np.dot(pesosCO6,salidaC5)-tendenciasCO6\n",
    "  salidaC6=sigmoide(entradaNetaC6)\n",
    "    \n",
    "  entradaNetaC7 = np.dot(pesosCO7,salidaC6)-tendenciasCO7\n",
    "  salidaC7=sigmoide(entradaNetaC7)\n",
    "    \n",
    "  entradaNetaC8 = np.dot(pesosCO8,salidaC7)-tendenciasCO8\n",
    "  salidaC8=sigmoide(entradaNetaC8)\n",
    "    \n",
    "  entradaNetaC9 = np.dot(pesosCO9,salidaC8)-tendenciasCO9\n",
    "  salidaC9=sigmoide(entradaNetaC9)\n",
    "    \n",
    "  entradaNetaC10 = np.dot(pesosCO10,salidaC9)-tendenciasCO10\n",
    "  salidaC10=sigmoide(entradaNetaC10)\n",
    "    \n",
    "  entradaNetaC11 = np.dot(pesosCO11,salidaC10)-tendenciasCO11\n",
    "  salidaC11=sigmoide(entradaNetaC11)\n",
    "    \n",
    "  entradaNetaC12 = np.dot(pesosCO12,salidaC11)-tendenciasCO12\n",
    "  salidaC12=sigmoide(entradaNetaC12)\n",
>>>>>>> upstream/main
    "\n",
    "  entradaNetaCS = np.dot(pesosCS,salidaC4)-tendenciasCS\n",
    "  salida=sigmoide(entradaNetaCS)\n",
    "\n",
<<<<<<< HEAD
    "  return salida, entradaNetaCS,entradaNetaC4, entradaNetaC3, entradaNetaC2, entradaNetaC1\n",
=======
    "  return salida, entradaNetaCS, entradaNetaC12,entradaNetaC11,entradaNetaC10,entradaNetaC9,entradaNetaC8,entradaNetaC7, entradaNetaC6, entradaNetaC5,entradaNetaC4,entradaNetaC3,entradaNetaC2,entradaNetaC1\n",
>>>>>>> upstream/main
    "# el algoritmo recibe\n",
    "# FacorAprendizaje: que tanto se permite el cambio en los pesos w(t) = e*error'f'(neta)*xj\n",
    "# error: un valor de error que permitimos\n",
    "# entradas: el conjunto de entradas que se van a trabajar \n",
    "# salidas: salidas esperadas\n",
    "# max-it: el numero de iteraciones que prmitimos\n",
    "# alpha: el valor de incremento del factor de aprendzaje\n",
    "# rho: El valor de decremento del factor de aprendizaje\n",
    "# neuronasC1: numero de neuronas en la capa oculta 1\n",
    "# neuronasC2: numero de neuronas en la capa oculta 2\n",
    "# neuronasC3: numero de neuronas en la capa oculta 3\n",
<<<<<<< HEAD
    "# neuronaC4: numero de neuronas en la capa oculta 4\n",
    "def backpropagation(entradas, salidas,factorAprendizaje, error, max_it, alpha, rho, neuronasC1, neuronasC2, neuronasC3,neuronasC4):\n",
=======
    "def backpropagation(entradas, salidas,factorAprendizaje, error, max_it, alpha, rho, neuronasC1, neuronasC2, neuronasC3,neuronasC4, neuronasC5, neuronasC6,neuronasC7, neuronasC8, neuronasC9,neuronasC10, neuronasC11, neuronasC12):\n",
>>>>>>> upstream/main
    "\n",
    "  pesosCO1=2*np.random.rand(neuronasC1,entradas.shape[1])-1\n",
    "  tendenciasC1=2*np.random.rand(neuronasC1)-1\n",
    "\n",
    "  pesosCO2=2*np.random.rand(neuronasC2,neuronasC1)-1\n",
    "  tendenciasC2=2*np.random.rand(neuronasC2)-1\n",
    "\n",
    "  pesosCO3=2*np.random.rand(neuronasC3,neuronasC2)-1\n",
    "  tendenciasC3=2*np.random.rand(neuronasC3)-1\n",
    "    \n",
    "  pesosCO4=2*np.random.rand(neuronasC4,neuronasC3)-1\n",
    "  tendenciasC4=2*np.random.rand(neuronasC4)-1\n",
    "  \n",
    "  pesosCO5=2*np.random.rand(neuronasC5,neuronasC4)-1\n",
    "  tendenciasC5=2*np.random.rand(neuronasC5)-1\n",
    "\n",
<<<<<<< HEAD
    "  #capa oculta 4\n",
    "  pesosCO4=2*np.random.rand(neuronasC4,neuronasC3)-1\n",
    "  tendenciasC4=2*np.random.rand(neuronasC4)-1 \n",
    "\n",
    "  # Generamos los pesos de la capa de salida, 1 salida (1 neurona) y tenemos 2 entradas que vienen de la capa oculta 2\n",
    "  pesosCS = 2*np.random.rand(neuronasC4)-1\n",
    "  #pesosCS = 2*np.random.rand(salidas.shape[1],neuronasC3)-1 #mas de una salida\n",
=======
    "  pesosCO6=2*np.random.rand(neuronasC6,neuronasC5)-1\n",
    "  tendenciasC6=2*np.random.rand(neuronasC6)-1\n",
    " \n",
    "  pesosCO7=2*np.random.rand(neuronasC7,neuronasC6)-1\n",
    "  tendenciasC7=2*np.random.rand(neuronasC7)-1\n",
    "\n",
    "  pesosCO8=2*np.random.rand(neuronasC8,neuronasC7)-1\n",
    "  tendenciasC8=2*np.random.rand(neuronasC8)-1\n",
    "    \n",
    "  pesosCO9=2*np.random.rand(neuronasC9,neuronasC8)-1\n",
    "  tendenciasC9=2*np.random.rand(neuronasC9)-1\n",
    "    \n",
    "  pesosCO10=2*np.random.rand(neuronasC10,neuronasC9)-1\n",
    "  tendenciasC10=2*np.random.rand(neuronasC10)-1\n",
    "\n",
    "  pesosCO11=2*np.random.rand(neuronasC11,neuronasC10)-1\n",
    "  tendenciasC11=2*np.random.rand(neuronasC11)-1\n",
    "    \n",
    "  pesosCO12=2*np.random.rand(neuronasC12,neuronasC11)-1\n",
    "  tendenciasC12=2*np.random.rand(neuronasC12)-1\n",
    "     \n",
    "  pesosCS = 2*np.random.rand(neuronasC12)-1\n",
    "  #pesosCS = 2*np.random.rand(salidas.shape[1],neuronasC12)-1 #mas de una salida\n",
>>>>>>> upstream/main
    "  tendenciasCS=2*np.random.rand(1)-1\n",
    "  it=0\n",
    "  errorVec=[]\n",
    "  errorAnt=float('inf')\n",
    "  while(it<max_it):\n",
    "    it+=1\n",
    "    errorIt=0\n",
    "    for i in range(0, entradas.shape[0]):\n",
    "      ent=entradas[i]\n",
    "      t=salidas[i]\n",
<<<<<<< HEAD
    "      y,entradaNetaCS,entradaNetaC4, entradaNetaC3, entradaNetaC2, entradaNetaC1=neurona(\n",
    "          ent, pesosCO1, tendenciasC1, pesosCO2, tendenciasC2,pesosCO3, tendenciasC3,pesosCO4,tendenciasC4, pesosCS, tendenciasCS\n",
=======
    "      y,entradaNetaCS, entradaNetaC12,entradaNetaC11,entradaNetaC10,entradaNetaC9,entradaNetaC8,entradaNetaC7,entradaNetaC6,entradaNetaC5,entradaNetaC4,entradaNetaC3, entradaNetaC2, entradaNetaC1=neurona(\n",
    "          ent, pesosCO1, tendenciasC1, pesosCO2, tendenciasC2,pesosCO3, tendenciasC3, pesosCO4, tendenciasC4,pesosCO5, tendenciasC5,pesosCO6, tendenciasC6,pesosCO7, tendenciasC7,pesosCO8, tendenciasC8,pesosCO9, tendenciasC9,pesosCO10, tendenciasC10,pesosCO11, tendenciasC11,pesosCO12, tendenciasC12,pesosCS, tendenciasCS\n",
>>>>>>> upstream/main
    "        )\n",
    "\n",
    "      errorIt+=np.power(t-y,2)/2.0\n",
    "      #np.sum(np.power(t-y,2)/2.0)\n",
    "\n",
    "    errorVec.append(errorIt)\n",
    "    for i in range(0, entradas.shape[0]):\n",
    "      ent=entradas[i]\n",
    "      t=salidas[i]\n",
<<<<<<< HEAD
    "      y, entradaNetaCS,entradaNetaC4, entradaNetaC3, entradaNetaC2, entradaNetaC1 = neurona(\n",
    "          ent, pesosCO1, tendenciasC1, pesosCO2, tendenciasC2, pesosCO3, tendenciasC3,pesosCO4,tendenciasC4, pesosCS, tendenciasCS\n",
=======
    "      y,entradaNetaCS, entradaNetaC12,entradaNetaC11,entradaNetaC10,entradaNetaC9,entradaNetaC8,entradaNetaC7,entradaNetaC6,entradaNetaC5,entradaNetaC4,entradaNetaC3, entradaNetaC2, entradaNetaC1=neurona(\n",
    "          ent, pesosCO1, tendenciasC1, pesosCO2, tendenciasC2,pesosCO3, tendenciasC3, pesosCO4, tendenciasC4,pesosCO5, tendenciasC5,pesosCO6, tendenciasC6,pesosCO7, tendenciasC7,pesosCO8, tendenciasC8,pesosCO9, tendenciasC9,pesosCO10, tendenciasC10,pesosCO11, tendenciasC11,pesosCO12, tendenciasC12,pesosCS, tendenciasCS\n",
>>>>>>> upstream/main
    "      )\n",
    "\n",
    "      # calcular el error en la https://meet.google.com/poh-rbpy-vtv?authuser=0capa salida\n",
    "      errorCS=(t-y)*derivada(entradaNetaCS)\n",
    "      #error = np.sum(3rroCS)\n",
    "        \n",
    "      # calcular la capa oculta 4\n",
    "      errorC4=0\n",
    "      for j in range(0,pesosCS.shape[0]):\n",
    "        #for k in range(...)\n",
    "          errorC4+=pesosCS[j]*errorCS*derivada(entradaNetaC4[j])  \n",
    "    \n",
    "\n",
<<<<<<< HEAD
    "      # calcular la capa oculta 3\n",
    "      errorC3=0\n",
    "      for j in range(0,pesosCO4.shape[0]):\n",
    "        for k in range(0, pesosCO4.shape[1]):\n",
    "          errorC3+=pesosCO4[j]*errorC4*derivada(entradaNetaC3[j])\n",
=======
    "      errorC12=0\n",
    "      for j in range(0,pesosCS.shape[0]):\n",
    "        #for k in range(...)\n",
    "        errorC12+=pesosCS[j]*errorCS*derivada(entradaNetaC12[j])\n",
    "\n",
    "      errorC11=0\n",
    "      for j in range(0,pesosCO12.shape[0]):\n",
    "        for k in range(0, pesosCO12.shape[1]):\n",
    "          errorC11 += pesosCO12[j][k]*errorC12*derivada(entradaNetaC11[k])\n",
    "        \n",
    "      errorC10=0\n",
    "      for j in range(0,pesosCO11.shape[0]):\n",
    "        for k in range(0, pesosCO11.shape[1]):\n",
    "          errorC10 += pesosCO11[j][k]*errorC11*derivada(entradaNetaC10[k])\n",
    "        \n",
    "      errorC9=0\n",
    "      for j in range(0,pesosCO10.shape[0]):\n",
    "        for k in range(0, pesosCO10.shape[1]):\n",
    "          errorC9 += pesosCO10[j][k]*errorC10*derivada(entradaNetaC9[k])\n",
    "        \n",
    "      errorC8=0\n",
    "      for j in range(0,pesosCO9.shape[0]):\n",
    "        for k in range(0, pesosCO9.shape[1]):\n",
    "          errorC8 += pesosCO9[j][k]*errorC9*derivada(entradaNetaC8[k])\n",
    "        \n",
    "      errorC7=0\n",
    "      for j in range(0,pesosCO8.shape[0]):\n",
    "        for k in range(0, pesosCO8.shape[1]):\n",
    "          errorC7 += pesosCO8[j][k]*errorC8*derivada(entradaNetaC7[k])\n",
    "        \n",
    "      errorC6=0\n",
    "      for j in range(0,pesosCO7.shape[0]):\n",
    "        for k in range(0, pesosCO7.shape[1]):\n",
    "          errorC6 += pesosCO7[j][k]*errorC7*derivada(entradaNetaC6[k])\n",
    "        \n",
    "      errorC5=0\n",
    "      for j in range(0,pesosCO6.shape[0]):\n",
    "        for k in range(0, pesosCO6.shape[1]):\n",
    "          errorC5 += pesosCO6[j][k]*errorC6*derivada(entradaNetaC5[k])\n",
    "        \n",
    "      errorC4=0\n",
    "      for j in range(0,pesosCO5.shape[0]):\n",
    "        for k in range(0, pesosCO5.shape[1]):\n",
    "          errorC4 += pesosCO5[j][k]*errorC5*derivada(entradaNetaC4[k])\n",
    "        \n",
    "      errorC3=0\n",
    "      for j in range(0,pesosCO4.shape[0]):\n",
    "        for k in range(0, pesosCO4.shape[1]):\n",
    "          errorC3 += pesosCO4[j][k]*errorC4*derivada(entradaNetaC3[k])\n",
>>>>>>> upstream/main
    "\n",
    "      #calcular el error capa oculta 2\n",
    "      errorC2=0\n",
    "      for j in range(0,pesosCO3.shape[0]):\n",
    "        for k in range(0, pesosCO3.shape[1]):\n",
    "          errorC2 += pesosCO3[j][k]*errorC3*derivada(entradaNetaC2[k])\n",
    "\n",
    "      #Calcular el error de la capa oculta 1\n",
    "      errorC1=0\n",
    "      for j in range(0, pesosCO2.shape[0]):\n",
    "        for k in range(0, pesosCO2.shape[1]):\n",
    "          errorC1 += pesosCO2[j][k]*errorC2*derivada(entradaNetaC1[k])\n",
    "\n",
    "      # actualiza pesos\n",
    "      # cada salida\n",
    "      for j in range(0, pesosCS.shape[0]):\n",
    "        pesosCS[j]+=factorAprendizaje*errorCS*entradaNetaCS\n",
    "\n",
    "      #Actualizar las tendencias\n",
    "      for j in range(0,tendenciasCS.shape[0]):\n",
    "        tendenciasCS[j]+=factorAprendizaje*errorCS*(-1)\n",
    "        \n",
<<<<<<< HEAD
    "      #pesos capa oculta 4\n",
    "      for j in range(0, pesosCO4.shape[0]): #neurona de CO4\n",
    "        for k in range(0, pesosCO4.shape[1]): #Salida de la CO4\n",
=======
    "      #pesos capa oculta 12\n",
    "      for j in range(0, pesosCO12.shape[0]): #neurona de CO3\n",
    "        for k in range(0, pesosCO12.shape[1]): #Salida de la CO2\n",
    "          pesosCO12[j][k] += factorAprendizaje*errorC12*entradaNetaC12[j]\n",
    "      # \n",
    "      # actualizar las tendencias 12\n",
    "      for j in range(0, tendenciasC12.shape[0]):\n",
    "        tendenciasC12[j]+=factorAprendizaje*errorC12*(-1)\n",
    "        \n",
    "      #pesos capa oculta 11\n",
    "      for j in range(0, pesosCO11.shape[0]): #neurona de CO3\n",
    "        for k in range(0, pesosCO11.shape[1]): #Salida de la CO2\n",
    "          pesosCO11[j][k]+=factorAprendizaje*errorC11*entradaNetaC11[j]\n",
    "      # \n",
    "      # actualizar las tendencias 11\n",
    "      for j in range(0, tendenciasC11.shape[0]):\n",
    "        tendenciasC11[j]+=factorAprendizaje*errorC11*(-1)\n",
    "        \n",
    "      #pesos capa oculta 10\n",
    "      for j in range(0, pesosCO10.shape[0]): #neurona de CO3\n",
    "        for k in range(0, pesosCO10.shape[1]): #Salida de la CO2\n",
    "          pesosCO10[j][k]+=factorAprendizaje*errorC10*entradaNetaC10[j]\n",
    "      # \n",
    "      # actualizar las tendencias 10\n",
    "      for j in range(0, tendenciasC10.shape[0]):\n",
    "        tendenciasC10[j]+=factorAprendizaje*errorC10*(-1)\n",
    "        \n",
    "      #pesos capa oculta 9\n",
    "      for j in range(0, pesosCO9.shape[0]): #neurona de CO3\n",
    "        for k in range(0, pesosCO9.shape[1]): #Salida de la CO2\n",
    "          pesosCO9[j][k]+=factorAprendizaje*errorC9*entradaNetaC9[j]\n",
    "      # \n",
    "      # actualizar las tendencias 9\n",
    "      for j in range(0, tendenciasC9.shape[0]):\n",
    "        tendenciasC9[j]+=factorAprendizaje*errorC9*(-1)\n",
    "\n",
    "      #pesos capa oculta 8\n",
    "      for j in range(0, pesosCO8.shape[0]): #neurona de CO3\n",
    "        for k in range(0, pesosCO8.shape[1]): #Salida de la CO2\n",
    "          pesosCO8[j][k]+=factorAprendizaje*errorC8*entradaNetaC8[j]\n",
    "      # \n",
    "      # actualizar las tendencias 8\n",
    "      for j in range(0, tendenciasC8.shape[0]):\n",
    "        tendenciasC8[j]+=factorAprendizaje*errorC8*(-1)\n",
    "        \n",
    "      #pesos capa oculta 7\n",
    "      for j in range(0, pesosCO7.shape[0]): #neurona de CO3\n",
    "        for k in range(0, pesosCO7.shape[1]): #Salida de la CO2\n",
    "          pesosCO7[j][k]+=factorAprendizaje*errorC7*entradaNetaC7[j]\n",
    "      # \n",
    "      # actualizar las tendencias 7\n",
    "      for j in range(0, tendenciasC7.shape[0]):\n",
    "        tendenciasC7[j]+=factorAprendizaje*errorC7*(-1)\n",
    "        \n",
    "      #pesos capa oculta 6\n",
    "      for j in range(0, pesosCO6.shape[0]): #neurona de CO3\n",
    "        for k in range(0, pesosCO6.shape[1]): #Salida de la CO2\n",
    "          pesosCO6[j][k]+=factorAprendizaje*errorC6*entradaNetaC6[j]\n",
    "      # \n",
    "      # actualizar las tendencias 6\n",
    "      for j in range(0, tendenciasC6.shape[0]):\n",
    "        tendenciasC6[j]+=factorAprendizaje*errorC6*(-1)\n",
    "\n",
    "      #pesos capa oculta 5\n",
    "      for j in range(0, pesosCO5.shape[0]): #neurona de CO3\n",
    "        for k in range(0, pesosCO5.shape[1]): #Salida de la CO2\n",
    "          pesosCO5[j][k]+=factorAprendizaje*errorC5*entradaNetaC5[j]\n",
    "      # \n",
    "      # actualizar las tendencias 5\n",
    "      for j in range(0, tendenciasC5.shape[0]):\n",
    "        tendenciasC5[j]+=factorAprendizaje*errorC5*(-1)\n",
    "        \n",
    "      #pesos capa oculta 4\n",
    "      for j in range(0, pesosCO4.shape[0]): #neurona de CO3\n",
    "        for k in range(0, pesosCO4.shape[1]): #Salida de la CO2\n",
>>>>>>> upstream/main
    "          pesosCO4[j][k]+=factorAprendizaje*errorC4*entradaNetaC4[j]\n",
    "      # \n",
    "      # actualizar las tendencias 4\n",
    "      for j in range(0, tendenciasC4.shape[0]):\n",
    "        tendenciasC4[j]+=factorAprendizaje*errorC4*(-1)\n",
<<<<<<< HEAD
    "        \n",
=======
    "      \n",
>>>>>>> upstream/main
    "      #pesos capa oculta 3\n",
    "      for j in range(0, pesosCO3.shape[0]): #neurona de CO3\n",
    "        for k in range(0, pesosCO3.shape[1]): #Salida de la CO2\n",
    "          pesosCO3[j][k]+=factorAprendizaje*errorC3*entradaNetaC3[j]\n",
    "      # \n",
    "      # actualizar las tendencias 3\n",
    "      for j in range(0, tendenciasC3.shape[0]):\n",
    "        tendenciasC3[j]+=factorAprendizaje*errorC3*(-1)\n",
    "\n",
    "      #pesos capa oculta 2\n",
    "      for j in range(0, pesosCO2.shape[0]): #neurona de CO2\n",
    "        for k in range(0, pesosCO2.shape[1]): #Salida de la CO1\n",
    "          pesosCO2[j][k]+=factorAprendizaje*errorC2*entradaNetaC2[j]\n",
    "      # \n",
    "      # actualizar las tendencias 2\n",
    "      for j in range(0, tendenciasC2.shape[0]):\n",
    "        tendenciasC2[j]+=factorAprendizaje*errorC2*(-1)\n",
    "\n",
    "      # Pesos capa oculta 1\n",
    "      for j in range(0, pesosCO1.shape[0]):\n",
    "        for k in range(0, pesosCO1.shape[1]):\n",
    "          pesosCO1[j][k]+=factorAprendizaje*errorC1*entradaNetaC1[j]\n",
    "\n",
    "      #Actualizar las tendencias 1\n",
    "      for j in range(0,tendenciasC1.shape[0]):\n",
    "        tendenciasC1[j]+=factorAprendizaje*errorC1*(-1)\n",
    "\n",
    "    if errorIt < errorAnt:\n",
    "      factorAprendizaje*=alpha\n",
    "  else:\n",
    "    factorAprendizaje*=rho\n",
    "  errorAnt=errorIt\n",
<<<<<<< HEAD
    "  return pesosCS, pesosCO1, pesosCO2, pesosCO3,pesosCO4, tendenciasC1, tendenciasC2, tendenciasC3,tendenciasC4, tendenciasCS, errorVec"
=======
    "  return pesosCS, pesosCO1, pesosCO2, pesosCO3, pesosCO4, pesosCO5, pesosCO6, pesosCO7, pesosCO8, pesosCO9, pesosCO10, pesosCO11, pesosCO12, tendenciasC1, tendenciasC2, tendenciasC3, tendenciasC4, tendenciasC5, tendenciasC6, tendenciasC7, tendenciasC8, tendenciasC9, tendenciasC10, tendenciasC11, tendenciasC12, tendenciasCS, errorVec\n"
>>>>>>> upstream/main
   ]
  },
  {
   "cell_type": "code",
<<<<<<< HEAD
   "execution_count": 133,
=======
   "execution_count": 342,
>>>>>>> upstream/main
   "metadata": {},
   "outputs": [],
   "source": [
    "# parametros\n",
    "neuronasC1=3\n",
<<<<<<< HEAD
    "neuronasC2=7 #2n+1 Regla de Kolmorogov\n",
    "neuronasC3=0\n",
    "neuronasC4=7\n",
    "factorAprendizaje=0.6\n",
    "alpha=1.05 # aumentar el factor de aprendizaje \n",
    "rho=0.90 #disminuir el factor de aprendizaje\n",
    "max_it=50\n",
=======
    "neuronasC2=5 #2n+1 Regla de Kolmorogov\n",
    "neuronasC3=5\n",
    "neuronasC4=5\n",
    "neuronasC5=5\n",
    "neuronasC6=5\n",
    "neuronasC7=5\n",
    "neuronasC8=5\n",
    "neuronasC9=5\n",
    "neuronasC10=5\n",
    "neuronasC11=5\n",
    "neuronasC12=5\n",
    "factorAprendizaje=1.5\n",
    "alpha=1.05# aumentar el factor de aprendizaje \n",
    "rho=0.90 #disminuir el factor de aprendizaje\n",
    "max_it=10\n",
>>>>>>> upstream/main
    "error=0.5"
   ]
  },
  {
   "cell_type": "code",
<<<<<<< HEAD
   "execution_count": 134,
=======
   "execution_count": 343,
>>>>>>> upstream/main
   "metadata": {},
   "outputs": [],
   "source": [
    "# x_train, x_test, y_train, y_test\n",
<<<<<<< HEAD
    "pesosCS, pesosCO1, pesosCO2, pesosCO3,pesosCO4, tc1, tc2, tc3,tc4, tcs, errorVec=backpropagation(\n",
    "    x_train, y_train,factorAprendizaje, error, max_it, alpha, rho, neuronasC1, neuronasC2, neuronasC3,neuronasC4)"
=======
    "pesosCS, pesosCO12, pesosCO11, pesosCO10,pesosCO9, pesosCO8, pesosCO7,pesosCO6, pesosCO5, pesosCO4,pesosCO3, pesosCO2, pesosCO1, tc12, tc11, tc10,tc9, tc8, tc7,tc6, tc5, tc4,tc3, tc2, tc1, tcs, errorVec=backpropagation(\n",
    "    x_train, y_train,factorAprendizaje, error, max_it, alpha, rho, neuronasC1, neuronasC2, neuronasC3, neuronasC4, neuronasC5, neuronasC6, neuronasC7, neuronasC8, neuronasC9, neuronasC10, neuronasC11, neuronasC12)"
>>>>>>> upstream/main
   ]
  },
  {
   "cell_type": "code",
<<<<<<< HEAD
   "execution_count": 135,
=======
   "execution_count": 344,
>>>>>>> upstream/main
   "metadata": {},
   "outputs": [
    {
     "data": {
      "text/plain": [
       "Text(0.5, 1.0, 'Error de entrenamiento')"
      ]
     },
<<<<<<< HEAD
     "execution_count": 135,
=======
     "execution_count": 344,
>>>>>>> upstream/main
     "metadata": {},
     "output_type": "execute_result"
    },
    {
     "data": {
<<<<<<< HEAD
      "image/png": "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\n",
=======
      "image/png": "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\n",
>>>>>>> upstream/main
      "text/plain": [
       "<Figure size 432x288 with 1 Axes>"
      ]
     },
     "metadata": {
      "needs_background": "light"
     },
     "output_type": "display_data"
    }
   ],
   "source": [
    "import matplotlib.pyplot as plt\n",
    "plt.plot(errorVec)\n",
    "plt.title(\"Error de entrenamiento\")"
   ]
  },
  {
   "cell_type": "code",
   "execution_count": null,
   "metadata": {},
   "outputs": [],
   "source": []
  }
 ],
 "metadata": {
  "colab": {
   "name": "RK_uni.ipynb",
   "provenance": []
  },
  "kernelspec": {
   "display_name": "Python 3 (ipykernel)",
   "language": "python",
   "name": "python3"
  },
  "language_info": {
   "codemirror_mode": {
    "name": "ipython",
    "version": 3
   },
   "file_extension": ".py",
   "mimetype": "text/x-python",
   "name": "python",
   "nbconvert_exporter": "python",
   "pygments_lexer": "ipython3",
<<<<<<< HEAD
   "version": "3.9.12"
=======
   "version": "3.8.10"
>>>>>>> upstream/main
  }
 },
 "nbformat": 4,
 "nbformat_minor": 4
}
