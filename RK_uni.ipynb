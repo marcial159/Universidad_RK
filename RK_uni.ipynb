{
 "cells": [
  {
   "cell_type": "markdown",
   "metadata": {
    "id": "W1B8YGw-mXLZ"
   },
   "source": [
    "# Primera Parte: Carga de Datos"
   ]
  },
  {
   "cell_type": "code",
   "execution_count": 70,
   "metadata": {},
   "outputs": [],
   "source": [
    "import pandas as pd"
   ]
  },
  {
   "cell_type": "code",
   "execution_count": 71,
   "metadata": {},
   "outputs": [
    {
     "name": "stdout",
     "output_type": "stream",
     "text": [
      "<class 'pandas.core.frame.DataFrame'>\n",
      "RangeIndex: 6482 entries, 0 to 6481\n",
      "Data columns (total 15 columns):\n",
      " #   Column                  Non-Null Count  Dtype  \n",
      "---  ------                  --------------  -----  \n",
      " 0   university              6482 non-null   object \n",
      " 1   year                    6482 non-null   int64  \n",
      " 2   rank_display            6414 non-null   object \n",
      " 3   score                   2820 non-null   float64\n",
      " 4   link                    6482 non-null   object \n",
      " 5   country                 6482 non-null   object \n",
      " 6   city                    6304 non-null   object \n",
      " 7   region                  6482 non-null   object \n",
      " 8   logo                    6482 non-null   object \n",
      " 9   type                    6470 non-null   object \n",
      " 10  research_output         6480 non-null   object \n",
      " 11  student_faculty_ratio   6407 non-null   float64\n",
      " 12  international_students  6318 non-null   object \n",
      " 13  size                    6480 non-null   object \n",
      " 14  faculty_count           6404 non-null   object \n",
      "dtypes: float64(2), int64(1), object(12)\n",
      "memory usage: 759.7+ KB\n"
     ]
    }
   ],
   "source": [
    "# En esta parte se carga la Data y se visualiza la cantidad de campos que se tiene en la data.\n",
    "Uni=pd.read_csv('qs-world-university-rankings-2017-to-2022-V2.csv')\n",
    "Uni.head()\n",
    "Uni.info()"
   ]
  },
  {
   "cell_type": "markdown",
   "metadata": {},
   "source": [
    "# Segunda Parte: Limpieza de Datos"
   ]
  },
  {
   "cell_type": "code",
   "execution_count": 72,
   "metadata": {},
   "outputs": [],
   "source": [
    "#Seleccionando los campos con los que se va a trabajar.\n",
    "Uni=Uni[['research_output','international_students','type','score',]]"
   ]
  },
  {
   "cell_type": "code",
   "execution_count": 73,
   "metadata": {},
   "outputs": [
    {
     "data": {
      "text/plain": [
       "research_output              2\n",
       "international_students     164\n",
       "type                        12\n",
       "score                     3662\n",
       "dtype: int64"
      ]
     },
     "execution_count": 73,
     "metadata": {},
     "output_type": "execute_result"
    }
   ],
   "source": [
    "#ver el numero de registros null.\n",
    "Uni.isna().sum()"
   ]
  },
  {
   "cell_type": "code",
   "execution_count": 74,
   "metadata": {},
   "outputs": [
    {
     "data": {
      "text/html": [
       "<div>\n",
       "<style scoped>\n",
       "    .dataframe tbody tr th:only-of-type {\n",
       "        vertical-align: middle;\n",
       "    }\n",
       "\n",
       "    .dataframe tbody tr th {\n",
       "        vertical-align: top;\n",
       "    }\n",
       "\n",
       "    .dataframe thead th {\n",
       "        text-align: right;\n",
       "    }\n",
       "</style>\n",
       "<table border=\"1\" class=\"dataframe\">\n",
       "  <thead>\n",
       "    <tr style=\"text-align: right;\">\n",
       "      <th></th>\n",
       "      <th>research_output</th>\n",
       "      <th>international_students</th>\n",
       "      <th>type</th>\n",
       "      <th>score</th>\n",
       "    </tr>\n",
       "  </thead>\n",
       "  <tbody>\n",
       "    <tr>\n",
       "      <th>0</th>\n",
       "      <td>Very High</td>\n",
       "      <td>3,730</td>\n",
       "      <td>Private</td>\n",
       "      <td>100.0</td>\n",
       "    </tr>\n",
       "    <tr>\n",
       "      <th>1</th>\n",
       "      <td>Very High</td>\n",
       "      <td>3,879</td>\n",
       "      <td>Private</td>\n",
       "      <td>98.7</td>\n",
       "    </tr>\n",
       "    <tr>\n",
       "      <th>2</th>\n",
       "      <td>Very High</td>\n",
       "      <td>5,877</td>\n",
       "      <td>Private</td>\n",
       "      <td>98.3</td>\n",
       "    </tr>\n",
       "    <tr>\n",
       "      <th>3</th>\n",
       "      <td>Very high</td>\n",
       "      <td>7,925</td>\n",
       "      <td>Public</td>\n",
       "      <td>97.2</td>\n",
       "    </tr>\n",
       "    <tr>\n",
       "      <th>4</th>\n",
       "      <td>Very High</td>\n",
       "      <td>692</td>\n",
       "      <td>Private</td>\n",
       "      <td>96.9</td>\n",
       "    </tr>\n",
       "    <tr>\n",
       "      <th>...</th>\n",
       "      <td>...</td>\n",
       "      <td>...</td>\n",
       "      <td>...</td>\n",
       "      <td>...</td>\n",
       "    </tr>\n",
       "    <tr>\n",
       "      <th>6477</th>\n",
       "      <td>High</td>\n",
       "      <td>57</td>\n",
       "      <td>Public</td>\n",
       "      <td>NaN</td>\n",
       "    </tr>\n",
       "    <tr>\n",
       "      <th>6478</th>\n",
       "      <td>Very High</td>\n",
       "      <td>585</td>\n",
       "      <td>Public</td>\n",
       "      <td>NaN</td>\n",
       "    </tr>\n",
       "    <tr>\n",
       "      <th>6479</th>\n",
       "      <td>Medium</td>\n",
       "      <td>2,826</td>\n",
       "      <td>Public</td>\n",
       "      <td>NaN</td>\n",
       "    </tr>\n",
       "    <tr>\n",
       "      <th>6480</th>\n",
       "      <td>High</td>\n",
       "      <td>2,394</td>\n",
       "      <td>Public</td>\n",
       "      <td>NaN</td>\n",
       "    </tr>\n",
       "    <tr>\n",
       "      <th>6481</th>\n",
       "      <td>High</td>\n",
       "      <td>2,300</td>\n",
       "      <td>Public</td>\n",
       "      <td>NaN</td>\n",
       "    </tr>\n",
       "  </tbody>\n",
       "</table>\n",
       "<p>6482 rows × 4 columns</p>\n",
       "</div>"
      ],
      "text/plain": [
       "     research_output international_students     type  score\n",
       "0          Very High                  3,730  Private  100.0\n",
       "1          Very High                  3,879  Private   98.7\n",
       "2          Very High                  5,877  Private   98.3\n",
       "3          Very high                  7,925   Public   97.2\n",
       "4          Very High                    692  Private   96.9\n",
       "...              ...                    ...      ...    ...\n",
       "6477            High                     57   Public    NaN\n",
       "6478       Very High                    585   Public    NaN\n",
       "6479          Medium                  2,826   Public    NaN\n",
       "6480            High                  2,394   Public    NaN\n",
       "6481            High                  2,300   Public    NaN\n",
       "\n",
       "[6482 rows x 4 columns]"
      ]
     },
     "execution_count": 74,
     "metadata": {},
     "output_type": "execute_result"
    }
   ],
   "source": [
    "Uni"
   ]
  },
  {
   "cell_type": "code",
   "execution_count": 75,
   "metadata": {},
   "outputs": [
    {
     "data": {
      "text/plain": [
       "research_output             2\n",
       "international_students    164\n",
       "type                       12\n",
       "score                       0\n",
       "dtype: int64"
      ]
     },
     "execution_count": 75,
     "metadata": {},
     "output_type": "execute_result"
    }
   ],
   "source": [
    "#Llenando los campos nulos con la media del campo score.\n",
    "Uni['score'] = Uni['score'].fillna(Uni['score'].mean())\n",
    "Uni.isna().sum()"
   ]
  },
  {
   "cell_type": "code",
   "execution_count": 76,
   "metadata": {},
   "outputs": [],
   "source": [
    "#llenando de el tipo de universidad con private o public. \n",
    "import random as rd\n",
    "tipos=['private','public']\n",
    "def filltype(tipo):\n",
    " i=rd.randint(0,1) # rango de 0 a 1\n",
    " tipo=tipos[i]\n",
    " return tipo\n",
    "Uni['type'] = Uni['type'].fillna(Uni['type'].apply(filltype))"
   ]
  },
  {
   "cell_type": "code",
   "execution_count": 77,
   "metadata": {},
   "outputs": [
    {
     "data": {
      "text/html": [
       "<div>\n",
       "<style scoped>\n",
       "    .dataframe tbody tr th:only-of-type {\n",
       "        vertical-align: middle;\n",
       "    }\n",
       "\n",
       "    .dataframe tbody tr th {\n",
       "        vertical-align: top;\n",
       "    }\n",
       "\n",
       "    .dataframe thead th {\n",
       "        text-align: right;\n",
       "    }\n",
       "</style>\n",
       "<table border=\"1\" class=\"dataframe\">\n",
       "  <thead>\n",
       "    <tr style=\"text-align: right;\">\n",
       "      <th></th>\n",
       "      <th>research_output</th>\n",
       "      <th>international_students</th>\n",
       "      <th>type</th>\n",
       "      <th>score</th>\n",
       "    </tr>\n",
       "  </thead>\n",
       "  <tbody>\n",
       "    <tr>\n",
       "      <th>0</th>\n",
       "      <td>Very High</td>\n",
       "      <td>3,730</td>\n",
       "      <td>Private</td>\n",
       "      <td>100.000000</td>\n",
       "    </tr>\n",
       "    <tr>\n",
       "      <th>1</th>\n",
       "      <td>Very High</td>\n",
       "      <td>3,879</td>\n",
       "      <td>Private</td>\n",
       "      <td>98.700000</td>\n",
       "    </tr>\n",
       "    <tr>\n",
       "      <th>2</th>\n",
       "      <td>Very High</td>\n",
       "      <td>5,877</td>\n",
       "      <td>Private</td>\n",
       "      <td>98.300000</td>\n",
       "    </tr>\n",
       "    <tr>\n",
       "      <th>3</th>\n",
       "      <td>Very high</td>\n",
       "      <td>7,925</td>\n",
       "      <td>Public</td>\n",
       "      <td>97.200000</td>\n",
       "    </tr>\n",
       "    <tr>\n",
       "      <th>4</th>\n",
       "      <td>Very High</td>\n",
       "      <td>692</td>\n",
       "      <td>Private</td>\n",
       "      <td>96.900000</td>\n",
       "    </tr>\n",
       "    <tr>\n",
       "      <th>...</th>\n",
       "      <td>...</td>\n",
       "      <td>...</td>\n",
       "      <td>...</td>\n",
       "      <td>...</td>\n",
       "    </tr>\n",
       "    <tr>\n",
       "      <th>6477</th>\n",
       "      <td>High</td>\n",
       "      <td>57</td>\n",
       "      <td>Public</td>\n",
       "      <td>46.595532</td>\n",
       "    </tr>\n",
       "    <tr>\n",
       "      <th>6478</th>\n",
       "      <td>Very High</td>\n",
       "      <td>585</td>\n",
       "      <td>Public</td>\n",
       "      <td>46.595532</td>\n",
       "    </tr>\n",
       "    <tr>\n",
       "      <th>6479</th>\n",
       "      <td>Medium</td>\n",
       "      <td>2,826</td>\n",
       "      <td>Public</td>\n",
       "      <td>46.595532</td>\n",
       "    </tr>\n",
       "    <tr>\n",
       "      <th>6480</th>\n",
       "      <td>High</td>\n",
       "      <td>2,394</td>\n",
       "      <td>Public</td>\n",
       "      <td>46.595532</td>\n",
       "    </tr>\n",
       "    <tr>\n",
       "      <th>6481</th>\n",
       "      <td>High</td>\n",
       "      <td>2,300</td>\n",
       "      <td>Public</td>\n",
       "      <td>46.595532</td>\n",
       "    </tr>\n",
       "  </tbody>\n",
       "</table>\n",
       "<p>6482 rows × 4 columns</p>\n",
       "</div>"
      ],
      "text/plain": [
       "     research_output international_students     type       score\n",
       "0          Very High                  3,730  Private  100.000000\n",
       "1          Very High                  3,879  Private   98.700000\n",
       "2          Very High                  5,877  Private   98.300000\n",
       "3          Very high                  7,925   Public   97.200000\n",
       "4          Very High                    692  Private   96.900000\n",
       "...              ...                    ...      ...         ...\n",
       "6477            High                     57   Public   46.595532\n",
       "6478       Very High                    585   Public   46.595532\n",
       "6479          Medium                  2,826   Public   46.595532\n",
       "6480            High                  2,394   Public   46.595532\n",
       "6481            High                  2,300   Public   46.595532\n",
       "\n",
       "[6482 rows x 4 columns]"
      ]
     },
     "execution_count": 77,
     "metadata": {},
     "output_type": "execute_result"
    }
   ],
   "source": [
    "Uni"
   ]
  },
  {
   "cell_type": "code",
   "execution_count": 78,
   "metadata": {},
   "outputs": [
    {
     "data": {
      "text/plain": [
       "research_output             2\n",
       "international_students    164\n",
       "type                        0\n",
       "score                       0\n",
       "dtype: int64"
      ]
     },
     "execution_count": 78,
     "metadata": {},
     "output_type": "execute_result"
    }
   ],
   "source": [
    "Uni.isna().sum()"
   ]
  },
  {
   "cell_type": "code",
   "execution_count": 79,
   "metadata": {},
   "outputs": [],
   "source": [
    "quality=['very high','medium','high','low']\n",
    "def fillquality(tipo):\n",
    " i=rd.randint(0,3)\n",
    " tipo=quality[i]\n",
    " return tipo\n",
    "Uni['research_output'] = Uni['research_output'].fillna(Uni['research_output'].apply(fillquality))"
   ]
  },
  {
   "cell_type": "code",
   "execution_count": 80,
   "metadata": {},
   "outputs": [],
   "source": [
    "Uni.isna().sum()\n",
    "#estandarizando los datos \"reasearch_output y type\" a minuscula\n",
    "Uni['research_output']=Uni['research_output'].str.lower()\n",
    "Uni['type'] = Uni['type'].str.lower()"
   ]
  },
  {
   "cell_type": "code",
   "execution_count": 81,
   "metadata": {},
   "outputs": [
    {
     "data": {
      "text/html": [
       "<div>\n",
       "<style scoped>\n",
       "    .dataframe tbody tr th:only-of-type {\n",
       "        vertical-align: middle;\n",
       "    }\n",
       "\n",
       "    .dataframe tbody tr th {\n",
       "        vertical-align: top;\n",
       "    }\n",
       "\n",
       "    .dataframe thead th {\n",
       "        text-align: right;\n",
       "    }\n",
       "</style>\n",
       "<table border=\"1\" class=\"dataframe\">\n",
       "  <thead>\n",
       "    <tr style=\"text-align: right;\">\n",
       "      <th></th>\n",
       "      <th>research_output</th>\n",
       "      <th>international_students</th>\n",
       "      <th>type</th>\n",
       "      <th>score</th>\n",
       "    </tr>\n",
       "  </thead>\n",
       "  <tbody>\n",
       "    <tr>\n",
       "      <th>0</th>\n",
       "      <td>very high</td>\n",
       "      <td>3,730</td>\n",
       "      <td>private</td>\n",
       "      <td>100.0</td>\n",
       "    </tr>\n",
       "    <tr>\n",
       "      <th>1</th>\n",
       "      <td>very high</td>\n",
       "      <td>3,879</td>\n",
       "      <td>private</td>\n",
       "      <td>98.7</td>\n",
       "    </tr>\n",
       "    <tr>\n",
       "      <th>2</th>\n",
       "      <td>very high</td>\n",
       "      <td>5,877</td>\n",
       "      <td>private</td>\n",
       "      <td>98.3</td>\n",
       "    </tr>\n",
       "    <tr>\n",
       "      <th>3</th>\n",
       "      <td>very high</td>\n",
       "      <td>7,925</td>\n",
       "      <td>public</td>\n",
       "      <td>97.2</td>\n",
       "    </tr>\n",
       "    <tr>\n",
       "      <th>4</th>\n",
       "      <td>very high</td>\n",
       "      <td>692</td>\n",
       "      <td>private</td>\n",
       "      <td>96.9</td>\n",
       "    </tr>\n",
       "    <tr>\n",
       "      <th>5</th>\n",
       "      <td>very high</td>\n",
       "      <td>8,442</td>\n",
       "      <td>public</td>\n",
       "      <td>96.8</td>\n",
       "    </tr>\n",
       "    <tr>\n",
       "      <th>6</th>\n",
       "      <td>very high</td>\n",
       "      <td>21,824</td>\n",
       "      <td>public</td>\n",
       "      <td>95.6</td>\n",
       "    </tr>\n",
       "    <tr>\n",
       "      <th>7</th>\n",
       "      <td>very high</td>\n",
       "      <td>7,733</td>\n",
       "      <td>public</td>\n",
       "      <td>94.2</td>\n",
       "    </tr>\n",
       "    <tr>\n",
       "      <th>8</th>\n",
       "      <td>very high</td>\n",
       "      <td>11,143</td>\n",
       "      <td>public</td>\n",
       "      <td>94.1</td>\n",
       "    </tr>\n",
       "    <tr>\n",
       "      <th>9</th>\n",
       "      <td>very high</td>\n",
       "      <td>4,696</td>\n",
       "      <td>private</td>\n",
       "      <td>93.0</td>\n",
       "    </tr>\n",
       "    <tr>\n",
       "      <th>10</th>\n",
       "      <td>very high</td>\n",
       "      <td>1,912</td>\n",
       "      <td>private</td>\n",
       "      <td>92.8</td>\n",
       "    </tr>\n",
       "    <tr>\n",
       "      <th>11</th>\n",
       "      <td>very high</td>\n",
       "      <td>7,551</td>\n",
       "      <td>public</td>\n",
       "      <td>91.5</td>\n",
       "    </tr>\n",
       "    <tr>\n",
       "      <th>12</th>\n",
       "      <td>very high</td>\n",
       "      <td>6,091</td>\n",
       "      <td>public</td>\n",
       "      <td>91.4</td>\n",
       "    </tr>\n",
       "    <tr>\n",
       "      <th>13</th>\n",
       "      <td>very high</td>\n",
       "      <td>6,426</td>\n",
       "      <td>public</td>\n",
       "      <td>91.1</td>\n",
       "    </tr>\n",
       "    <tr>\n",
       "      <th>14</th>\n",
       "      <td>very high</td>\n",
       "      <td>2,537</td>\n",
       "      <td>private</td>\n",
       "      <td>90.9</td>\n",
       "    </tr>\n",
       "    <tr>\n",
       "      <th>15</th>\n",
       "      <td>very high</td>\n",
       "      <td>5,675</td>\n",
       "      <td>private</td>\n",
       "      <td>90.1</td>\n",
       "    </tr>\n",
       "    <tr>\n",
       "      <th>16</th>\n",
       "      <td>very high</td>\n",
       "      <td>5,070</td>\n",
       "      <td>private</td>\n",
       "      <td>89.3</td>\n",
       "    </tr>\n",
       "    <tr>\n",
       "      <th>17</th>\n",
       "      <td>very high</td>\n",
       "      <td>4,636</td>\n",
       "      <td>private</td>\n",
       "      <td>89.0</td>\n",
       "    </tr>\n",
       "    <tr>\n",
       "      <th>18</th>\n",
       "      <td>very high</td>\n",
       "      <td>14,637</td>\n",
       "      <td>public</td>\n",
       "      <td>88.9</td>\n",
       "    </tr>\n",
       "    <tr>\n",
       "      <th>19</th>\n",
       "      <td>very high</td>\n",
       "      <td>11,252</td>\n",
       "      <td>private</td>\n",
       "      <td>88.6</td>\n",
       "    </tr>\n",
       "  </tbody>\n",
       "</table>\n",
       "</div>"
      ],
      "text/plain": [
       "   research_output international_students     type  score\n",
       "0        very high                  3,730  private  100.0\n",
       "1        very high                  3,879  private   98.7\n",
       "2        very high                  5,877  private   98.3\n",
       "3        very high                  7,925   public   97.2\n",
       "4        very high                    692  private   96.9\n",
       "5        very high                  8,442   public   96.8\n",
       "6        very high                 21,824   public   95.6\n",
       "7        very high                  7,733   public   94.2\n",
       "8        very high                 11,143   public   94.1\n",
       "9        very high                  4,696  private   93.0\n",
       "10       very high                  1,912  private   92.8\n",
       "11       very high                  7,551   public   91.5\n",
       "12       very high                  6,091   public   91.4\n",
       "13       very high                  6,426   public   91.1\n",
       "14       very high                  2,537  private   90.9\n",
       "15       very high                  5,675  private   90.1\n",
       "16       very high                  5,070  private   89.3\n",
       "17       very high                  4,636  private   89.0\n",
       "18       very high                 14,637   public   88.9\n",
       "19       very high                 11,252  private   88.6"
      ]
     },
     "execution_count": 81,
     "metadata": {},
     "output_type": "execute_result"
    }
   ],
   "source": [
    "Uni.head(20)"
   ]
  },
  {
   "cell_type": "code",
   "execution_count": 82,
   "metadata": {},
   "outputs": [],
   "source": [
    "import re\n",
    "#Limpiando los puntos y comas del campo international_students\n",
    "Uni['international_students']=Uni['international_students'].str.replace(re.compile('[\\.,]'),'')"
   ]
  },
  {
   "cell_type": "code",
   "execution_count": 83,
   "metadata": {},
   "outputs": [],
   "source": [
    "#llenado del campo international_students con valores de rango [1000-25000]\n",
    "def fillstudents(tipo):\n",
    " i=rd.randint(1000,25000)\n",
    " return str(i)\n",
    "Uni['international_students']= Uni['international_students'].fillna(Uni['international_students'].apply(fillstudents))"
   ]
  },
  {
   "cell_type": "code",
   "execution_count": 84,
   "metadata": {},
   "outputs": [
    {
     "data": {
      "text/plain": [
       "research_output           0\n",
       "international_students    0\n",
       "type                      0\n",
       "score                     0\n",
       "dtype: int64"
      ]
     },
     "execution_count": 84,
     "metadata": {},
     "output_type": "execute_result"
    }
   ],
   "source": [
    "#visualizacon de los campos a utilizar\n",
    "Uni.isna().sum()"
   ]
  },
  {
   "cell_type": "code",
   "execution_count": 85,
   "metadata": {},
   "outputs": [
    {
     "name": "stdout",
     "output_type": "stream",
     "text": [
      "<class 'pandas.core.frame.DataFrame'>\n",
      "RangeIndex: 6482 entries, 0 to 6481\n",
      "Data columns (total 4 columns):\n",
      " #   Column                  Non-Null Count  Dtype  \n",
      "---  ------                  --------------  -----  \n",
      " 0   research_output         6482 non-null   object \n",
      " 1   international_students  6482 non-null   int32  \n",
      " 2   type                    6482 non-null   object \n",
      " 3   score                   6482 non-null   float64\n",
      "dtypes: float64(1), int32(1), object(2)\n",
      "memory usage: 177.4+ KB\n"
     ]
    }
   ],
   "source": [
    "#comvercion del campo international_students  de string a int\n",
    "Uni['international_students']=Uni['international_students'].astype(int)\n",
    "Uni.info()"
   ]
  },
  {
   "cell_type": "markdown",
   "metadata": {},
   "source": [
    "# Tercera Parte: Normalizacion de Datos"
   ]
  },
  {
   "cell_type": "code",
   "execution_count": 86,
   "metadata": {},
   "outputs": [
    {
     "name": "stdout",
     "output_type": "stream",
     "text": [
      "   score\n",
      "0  100.0\n",
      "1   98.7\n",
      "2   98.3\n",
      "3   97.2\n",
      "4   96.9 \n",
      "   research_output  international_students     type\n",
      "0       very high                    3730  private\n",
      "1       very high                    3879  private\n",
      "2       very high                    5877  private\n",
      "3       very high                    7925   public\n",
      "4       very high                     692  private\n"
     ]
    }
   ],
   "source": [
    "trainDatax = Uni[['research_output','international_students','type']].copy()\n",
    "trainDatay = Uni[['score']].copy()\n",
    "print(trainDatay.head(),\"\\n\", trainDatax.head())"
   ]
  },
  {
   "cell_type": "code",
   "execution_count": 87,
   "metadata": {},
   "outputs": [
    {
     "data": {
      "text/plain": [
       "Index(['private', 'public'], dtype='object')"
      ]
     },
     "execution_count": 87,
     "metadata": {},
     "output_type": "execute_result"
    }
   ],
   "source": [
    "trainDatax['type'], categoryType = trainDatax['type'].factorize(sort=True)\n",
    "categoryType"
   ]
  },
  {
   "cell_type": "code",
   "execution_count": 88,
   "metadata": {},
   "outputs": [
    {
     "data": {
      "text/plain": [
       "0       0\n",
       "1       0\n",
       "2       0\n",
       "3       1\n",
       "4       0\n",
       "       ..\n",
       "6477    1\n",
       "6478    1\n",
       "6479    1\n",
       "6480    1\n",
       "6481    1\n",
       "Name: type, Length: 6482, dtype: int64"
      ]
     },
     "execution_count": 88,
     "metadata": {},
     "output_type": "execute_result"
    }
   ],
   "source": [
    "trainDatax.type"
   ]
  },
  {
   "cell_type": "code",
   "execution_count": 89,
   "metadata": {},
   "outputs": [
    {
     "ename": "NameError",
     "evalue": "name 'categoryResearch' is not defined",
     "output_type": "error",
     "traceback": [
      "\u001b[1;31m---------------------------------------------------------------------------\u001b[0m",
      "\u001b[1;31mNameError\u001b[0m                                 Traceback (most recent call last)",
      "Input \u001b[1;32mIn [89]\u001b[0m, in \u001b[0;36m<cell line: 2>\u001b[1;34m()\u001b[0m\n\u001b[0;32m      1\u001b[0m trainDatax[\u001b[38;5;124m'\u001b[39m\u001b[38;5;124mresearch_output\u001b[39m\u001b[38;5;124m'\u001b[39m], categoryReasearch \u001b[38;5;241m=\u001b[39m trainDatax[\u001b[38;5;124m'\u001b[39m\u001b[38;5;124mresearch_output\u001b[39m\u001b[38;5;124m'\u001b[39m]\u001b[38;5;241m.\u001b[39mfactorize(sort \u001b[38;5;241m=\u001b[39m \u001b[38;5;28;01mTrue\u001b[39;00m)\n\u001b[1;32m----> 2\u001b[0m \u001b[43mcategoryResearch\u001b[49m\n",
      "\u001b[1;31mNameError\u001b[0m: name 'categoryResearch' is not defined"
     ]
    }
   ],
   "source": [
    "trainDatax['research_output'], categoryReasearch = trainDatax['research_output'].factorize(sort = True)\n",
    "categoryResearch"
   ]
  },
  {
   "cell_type": "code",
   "execution_count": 90,
   "metadata": {},
   "outputs": [
    {
     "data": {
      "text/html": [
       "<div>\n",
       "<style scoped>\n",
       "    .dataframe tbody tr th:only-of-type {\n",
       "        vertical-align: middle;\n",
       "    }\n",
       "\n",
       "    .dataframe tbody tr th {\n",
       "        vertical-align: top;\n",
       "    }\n",
       "\n",
       "    .dataframe thead th {\n",
       "        text-align: right;\n",
       "    }\n",
       "</style>\n",
       "<table border=\"1\" class=\"dataframe\">\n",
       "  <thead>\n",
       "    <tr style=\"text-align: right;\">\n",
       "      <th></th>\n",
       "      <th>research_output</th>\n",
       "      <th>international_students</th>\n",
       "      <th>type</th>\n",
       "    </tr>\n",
       "  </thead>\n",
       "  <tbody>\n",
       "    <tr>\n",
       "      <th>0</th>\n",
       "      <td>3</td>\n",
       "      <td>3730</td>\n",
       "      <td>0</td>\n",
       "    </tr>\n",
       "    <tr>\n",
       "      <th>1</th>\n",
       "      <td>3</td>\n",
       "      <td>3879</td>\n",
       "      <td>0</td>\n",
       "    </tr>\n",
       "    <tr>\n",
       "      <th>2</th>\n",
       "      <td>3</td>\n",
       "      <td>5877</td>\n",
       "      <td>0</td>\n",
       "    </tr>\n",
       "    <tr>\n",
       "      <th>3</th>\n",
       "      <td>3</td>\n",
       "      <td>7925</td>\n",
       "      <td>1</td>\n",
       "    </tr>\n",
       "    <tr>\n",
       "      <th>4</th>\n",
       "      <td>3</td>\n",
       "      <td>692</td>\n",
       "      <td>0</td>\n",
       "    </tr>\n",
       "  </tbody>\n",
       "</table>\n",
       "</div>"
      ],
      "text/plain": [
       "   research_output  international_students  type\n",
       "0                3                    3730     0\n",
       "1                3                    3879     0\n",
       "2                3                    5877     0\n",
       "3                3                    7925     1\n",
       "4                3                     692     0"
      ]
     },
     "execution_count": 90,
     "metadata": {},
     "output_type": "execute_result"
    }
   ],
   "source": [
    "trainDatax.head()"
   ]
  },
  {
   "cell_type": "code",
   "execution_count": 91,
   "metadata": {},
   "outputs": [
    {
     "data": {
      "text/plain": [
       "(0       (92.35, 100.0]\n",
       " 1       (92.35, 100.0]\n",
       " 2       (92.35, 100.0]\n",
       " 3       (92.35, 100.0]\n",
       " 4       (92.35, 100.0]\n",
       "              ...      \n",
       " 6477     (46.45, 54.1]\n",
       " 6478     (46.45, 54.1]\n",
       " 6479     (46.45, 54.1]\n",
       " 6480     (46.45, 54.1]\n",
       " 6481     (46.45, 54.1]\n",
       " Name: score, Length: 6482, dtype: category\n",
       " Categories (10, interval[float64, right]): [(23.424, 31.15] < (31.15, 38.8] < (38.8, 46.45] < (46.45, 54.1] ... (69.4, 77.05] < (77.05, 84.7] < (84.7, 92.35] < (92.35, 100.0]],\n",
       " array([ 23.4235,  31.15  ,  38.8   ,  46.45  ,  54.1   ,  61.75  ,\n",
       "         69.4   ,  77.05  ,  84.7   ,  92.35  , 100.    ]))"
      ]
     },
     "execution_count": 91,
     "metadata": {},
     "output_type": "execute_result"
    }
   ],
   "source": [
    "# Etiquetando el campo score en intervalos\n",
    "pd.cut(trainDatay['score'],10,retbins = True)"
   ]
  },
  {
   "cell_type": "code",
   "execution_count": 92,
   "metadata": {},
   "outputs": [],
   "source": [
    "trainDatay['score'] = pd.cut(trainDatay.score, [20,30,40,50,60,70,80,90,100])"
   ]
  },
  {
   "cell_type": "code",
   "execution_count": 93,
   "metadata": {},
   "outputs": [
    {
     "data": {
      "text/html": [
       "<div>\n",
       "<style scoped>\n",
       "    .dataframe tbody tr th:only-of-type {\n",
       "        vertical-align: middle;\n",
       "    }\n",
       "\n",
       "    .dataframe tbody tr th {\n",
       "        vertical-align: top;\n",
       "    }\n",
       "\n",
       "    .dataframe thead th {\n",
       "        text-align: right;\n",
       "    }\n",
       "</style>\n",
       "<table border=\"1\" class=\"dataframe\">\n",
       "  <thead>\n",
       "    <tr style=\"text-align: right;\">\n",
       "      <th></th>\n",
       "      <th>score</th>\n",
       "    </tr>\n",
       "  </thead>\n",
       "  <tbody>\n",
       "    <tr>\n",
       "      <th>0</th>\n",
       "      <td>(90, 100]</td>\n",
       "    </tr>\n",
       "    <tr>\n",
       "      <th>15</th>\n",
       "      <td>(90, 100]</td>\n",
       "    </tr>\n",
       "    <tr>\n",
       "      <th>30</th>\n",
       "      <td>(80, 90]</td>\n",
       "    </tr>\n",
       "    <tr>\n",
       "      <th>45</th>\n",
       "      <td>(70, 80]</td>\n",
       "    </tr>\n",
       "    <tr>\n",
       "      <th>60</th>\n",
       "      <td>(70, 80]</td>\n",
       "    </tr>\n",
       "    <tr>\n",
       "      <th>75</th>\n",
       "      <td>(60, 70]</td>\n",
       "    </tr>\n",
       "    <tr>\n",
       "      <th>90</th>\n",
       "      <td>(60, 70]</td>\n",
       "    </tr>\n",
       "  </tbody>\n",
       "</table>\n",
       "</div>"
      ],
      "text/plain": [
       "        score\n",
       "0   (90, 100]\n",
       "15  (90, 100]\n",
       "30   (80, 90]\n",
       "45   (70, 80]\n",
       "60   (70, 80]\n",
       "75   (60, 70]\n",
       "90   (60, 70]"
      ]
     },
     "execution_count": 93,
     "metadata": {},
     "output_type": "execute_result"
    }
   ],
   "source": [
    "trainDatay.iloc[0:100:15]"
   ]
  },
  {
   "cell_type": "code",
   "execution_count": 94,
   "metadata": {},
   "outputs": [
    {
     "data": {
      "text/plain": [
       "CategoricalIndex([(20, 30], (30, 40], (40, 50], (50, 60], (60, 70], (70, 80],\n",
       "                  (80, 90], (90, 100]],\n",
       "                 categories=[(20, 30], (30, 40], (40, 50], (50, 60], (60, 70], (70, 80], (80, 90], (90, 100]], ordered=True, dtype='category')"
      ]
     },
     "execution_count": 94,
     "metadata": {},
     "output_type": "execute_result"
    }
   ],
   "source": [
    "# Categorizando el campo score\n",
    "trainDatay['score'], categoryScore = trainDatay['score'].factorize(sort = True)\n",
    "categoryScore"
   ]
  },
  {
   "cell_type": "code",
   "execution_count": 95,
   "metadata": {},
   "outputs": [],
   "source": [
    "from sklearn.preprocessing import StandardScaler"
   ]
  },
  {
   "cell_type": "code",
   "execution_count": 96,
   "metadata": {},
   "outputs": [
    {
     "name": "stdout",
     "output_type": "stream",
     "text": [
      "[2.26087627e+00 3.25340019e+03 8.16260413e-01]\n"
     ]
    }
   ],
   "source": [
    "scaler = StandardScaler()\n",
    "scaler.fit(trainDatax)\n",
    "print(scaler.mean_)"
   ]
  },
  {
   "cell_type": "code",
   "execution_count": 97,
   "metadata": {},
   "outputs": [
    {
     "data": {
      "text/plain": [
       "array([[ 0.59831889,  0.12093949, -2.10772041],\n",
       "       [ 0.59831889,  0.15874896, -2.10772041],\n",
       "       [ 0.59831889,  0.66575106, -2.10772041],\n",
       "       ...,\n",
       "       [-0.21117872, -0.10845485,  0.47444623],\n",
       "       [-1.83017394, -0.21807693,  0.47444623],\n",
       "       [-1.83017394, -0.24192988,  0.47444623]])"
      ]
     },
     "execution_count": 97,
     "metadata": {},
     "output_type": "execute_result"
    }
   ],
   "source": [
    "trainDatax = scaler.fit_transform(trainDatax)\n",
    "trainDatax"
   ]
  },
  {
   "cell_type": "code",
   "execution_count": 98,
   "metadata": {},
   "outputs": [
    {
     "name": "stdout",
     "output_type": "stream",
     "text": [
      "[0.41917899 0.29824907 0.28257194]\n"
     ]
    }
   ],
   "source": [
    "from sklearn.decomposition import PCA\n",
    "pca = PCA(n_components=3)\n",
    "pca.fit(trainDatax)\n",
    "print(pca.explained_variance_ratio_)  "
   ]
  },
  {
   "cell_type": "code",
   "execution_count": 99,
   "metadata": {},
   "outputs": [
    {
     "name": "stdout",
     "output_type": "stream",
     "text": [
      "[[ 0.59831889  0.12093949 -2.10772041]\n",
      " [ 0.59831889  0.15874896 -2.10772041]\n",
      " [ 0.59831889  0.66575106 -2.10772041]\n",
      " ...\n",
      " [-0.21117872 -0.10845485  0.47444623]\n",
      " [-1.83017394 -0.21807693  0.47444623]\n",
      " [-1.83017394 -0.24192988  0.47444623]]       score\n",
      "0         7\n",
      "1         7\n",
      "2         7\n",
      "3         7\n",
      "4         7\n",
      "...     ...\n",
      "6477      2\n",
      "6478      2\n",
      "6479      2\n",
      "6480      2\n",
      "6481      2\n",
      "\n",
      "[6482 rows x 1 columns]\n"
     ]
    }
   ],
   "source": [
    "print(trainDatax, trainDatay)"
   ]
  },
  {
   "cell_type": "code",
   "execution_count": 100,
   "metadata": {},
   "outputs": [],
   "source": [
    "# Entrenar la RN\n",
    "import numpy as np\n",
    "from sklearn.model_selection import train_test_split"
   ]
  },
  {
   "cell_type": "code",
   "execution_count": 101,
   "metadata": {},
   "outputs": [],
   "source": [
    "trainDatay=trainDatay.to_numpy()\n",
    "x_train, x_test, y_train, y_test= train_test_split(trainDatax, trainDatay, test_size=0.3)"
   ]
  },
  {
   "cell_type": "code",
   "execution_count": 102,
   "metadata": {},
   "outputs": [
    {
     "name": "stdout",
     "output_type": "stream",
     "text": [
      "[[ 0.59831889  0.33206349  0.47444623]\n",
      " [-1.83017394 -0.32414643  0.47444623]\n",
      " [ 0.59831889 -0.69615098  0.47444623]\n",
      " [-1.83017394  0.09429524  0.47444623]\n",
      " [ 0.59831889 -0.37058356  0.47444623]] [[-1.83017394 -0.05059875  0.47444623]\n",
      " [ 0.59831889 -0.39849659  0.47444623]\n",
      " [ 0.59831889  1.98223098  0.47444623]\n",
      " [-0.21117872  1.58358218  0.47444623]\n",
      " [ 0.59831889 -0.05212128  0.47444623]] [[2]\n",
      " [2]\n",
      " [2]\n",
      " [2]\n",
      " [2]] [[2]\n",
      " [2]\n",
      " [4]\n",
      " [2]\n",
      " [2]]\n"
     ]
    }
   ],
   "source": [
    "print(x_train[0:5], x_test[0:5], y_train[0:5], y_test[0:5])"
   ]
  },
  {
   "cell_type": "code",
   "execution_count": 108,
   "metadata": {},
   "outputs": [],
   "source": [
    "#import numpy as np\n",
    "\n",
    "def sigmoide(x):\n",
    "  return (1.0/(1.0+np.exp(-x)))\n",
    "def derivada(x):\n",
    "  return sigmoide(x)*(1.0-sigmoide(x))\n",
    "\n",
    "def neurona(entrada, pesosCO1, tendenciasC01, pesosCO2, tendenciasCO2, pesosCO3, tendenciasCO3,pesosCO4,tendenciasCO4, pesosCS, tendenciasCS):\n",
    "  entradaNetaC1=np.dot(pesosCO1, np.transpose(entrada))-tendenciasC01\n",
    "  salidaC1=sigmoide(entradaNetaC1)\n",
    "\n",
    "  entradaNetaC2 = np.dot(pesosCO2,salidaC1)-tendenciasCO2\n",
    "  salidaC2=sigmoide(entradaNetaC2)\n",
    "\n",
    "  entradaNetaC3 = np.dot(pesosCO3,salidaC2)-tendenciasCO3\n",
    "  salidaC3=sigmoide(entradaNetaC3)\n",
    "    \n",
    "  entradaNetaC4 = np.dot(pesosCO4,salidaC3)-tendenciasCO4\n",
    "  salidaC4=sigmoide(entradaNetaC4)  \n",
    "\n",
    "  entradaNetaCS = np.dot(pesosCS,salidaC4)-tendenciasCS\n",
    "  salida=sigmoide(entradaNetaCS)\n",
    "\n",
    "  return salida, entradaNetaCS,entradaNetaC4, entradaNetaC3, entradaNetaC2, entradaNetaC1\n",
    "# el algoritmo recibe\n",
    "# FacorAprendizaje: que tanto se permite el cambio en los pesos w(t) = e*error'f'(neta)*xj\n",
    "# error: un valor de error que permitimos\n",
    "# entradas: el conjunto de entradas que se van a trabajar \n",
    "# salidas: salidas esperadas\n",
    "# max-it: el numero de iteraciones que prmitimos\n",
    "# alpha: el valor de incremento del factor de aprendzaje\n",
    "# rho: El valor de decremento del factor de aprendizaje\n",
    "# neuronasC1: numero de neuronas en la capa oculta 1\n",
    "# neuronasC2: numero de neuronas en la capa oculta 2\n",
    "# neuronasC3: numero de neuronas en la capa oculta 3\n",
    "# neuronaC4: numero de neuronas en la capa oculta 4\n",
    "def backpropagation(entradas, salidas,factorAprendizaje, error, max_it, alpha, rho, neuronasC1, neuronasC2, neuronasC3,neuronasC4):\n",
    "\n",
    "  # tiene 3 neuronas y como tres entradas tenemos una matriz de 3x3\n",
    "  pesosCO1=2*np.random.rand(neuronasC1,entradas.shape[1])-1\n",
    "  tendenciasC1=2*np.random.rand(neuronasC1)-1\n",
    "\n",
    "  # pesos capa oculta 2\n",
    "  # la capa oculta 2 tiene 2 neuronas y recive las salidas de 3 neuronas en la capa oculta 1\n",
    "  # genera una matriz de 2x3\n",
    "  pesosCO2=2*np.random.rand(neuronasC2,neuronasC1)-1\n",
    "  tendenciasC2=2*np.random.rand(neuronasC2)-1\n",
    "\n",
    "  # capa oculta 3\n",
    "  pesosCO3=2*np.random.rand(neuronasC3,neuronasC2)-1\n",
    "  tendenciasC3=2*np.random.rand(neuronasC3)-1\n",
    "\n",
    "  #capa oculta 4\n",
    "  pesosCO4=2*np.random.rand(neuronasC4,neuronasC3)-1\n",
    "  tendenciasC4=2*np.random.rand(neuronasC4)-1 \n",
    "\n",
    "  # Generamos los pesos de la capa de salida, 1 salida (1 neurona) y tenemos 2 entradas que vienen de la capa oculta 2\n",
    "  pesosCS = 2*np.random.rand(neuronasC4)-1\n",
    "  #pesosCS = 2*np.random.rand(salidas.shape[1],neuronasC3)-1 #mas de una salida\n",
    "  tendenciasCS=2*np.random.rand(1)-1\n",
    "  it=0\n",
    "  errorVec=[]\n",
    "  errorAnt=float('inf')\n",
    "  while(it<max_it):\n",
    "    it+=1\n",
    "    errorIt=0\n",
    "    for i in range(0, entradas.shape[0]):\n",
    "      ent=entradas[i]\n",
    "      t=salidas[i]\n",
    "      y,entradaNetaCS,entradaNetaC4, entradaNetaC3, entradaNetaC2, entradaNetaC1=neurona(\n",
    "          ent, pesosCO1, tendenciasC1, pesosCO2, tendenciasC2,pesosCO3, tendenciasC3,pesosCO4,tendenciasC4, pesosCS, tendenciasCS\n",
    "        )\n",
    "\n",
    "      errorIt+=np.power(t-y,2)/2.0\n",
    "      #np.sum(np.power(t-y,2)/2.0)\n",
    "\n",
    "    errorVec.append(errorIt)\n",
    "    for i in range(0, entradas.shape[0]):\n",
    "      ent=entradas[i]\n",
    "      t=salidas[i]\n",
    "      y, entradaNetaCS,entradaNetaC4, entradaNetaC3, entradaNetaC2, entradaNetaC1 = neurona(\n",
    "          ent, pesosCO1, tendenciasC1, pesosCO2, tendenciasC2, pesosCO3, tendenciasC3,pesosCO4,tendenciasC4, pesosCS, tendenciasCS\n",
    "      )\n",
    "\n",
    "      # calcular el error en la https://meet.google.com/poh-rbpy-vtv?authuser=0capa salida\n",
    "      errorCS=(t-y)*derivada(entradaNetaCS)\n",
    "      #error = np.sum(3rroCS)\n",
    "        \n",
    "      # calcular la capa oculta 4\n",
    "      errorC4=0\n",
    "      for j in range(0,pesosCS.shape[0]):\n",
    "        #for k in range(...)\n",
    "          errorC4+=pesosCS[j]*errorCS*derivada(entradaNetaC4[j])  \n",
    "    \n",
    "\n",
    "      # calcular la capa oculta 3\n",
    "      errorC3=0\n",
    "      for j in range(0,pesosCO4.shape[0]):\n",
    "        for k in range(0, pesosCO4.shape[1]):\n",
    "          errorC3+=pesosCO4[j]*errorC4*derivada(entradaNetaC3[j])\n",
    "\n",
    "      #calcular el error capa oculta 2\n",
    "      errorC2=0\n",
    "      for j in range(0,pesosCO3.shape[0]):\n",
    "        for k in range(0, pesosCO3.shape[1]):\n",
    "          errorC2 += pesosCO3[j][k]*errorC3*derivada(entradaNetaC2[k])\n",
    "\n",
    "      #Calcular el error de la capa oculta 1\n",
    "      errorC1=0\n",
    "      for j in range(0, pesosCO2.shape[0]):\n",
    "        for k in range(0, pesosCO2.shape[1]):\n",
    "          errorC1 += pesosCO2[j][k]*errorC2*derivada(entradaNetaC1[k])\n",
    "\n",
    "      # actualiza pesos\n",
    "      # cada salida\n",
    "      for j in range(0, pesosCS.shape[0]):\n",
    "        pesosCS[j]+=factorAprendizaje*errorCS*entradaNetaCS\n",
    "\n",
    "      #Actualizar las tendencias\n",
    "      for j in range(0,tendenciasCS.shape[0]):\n",
    "        tendenciasCS[j]+=factorAprendizaje*errorCS*(-1)\n",
    "        \n",
    "      #pesos capa oculta 4\n",
    "      for j in range(0, pesosCO4.shape[0]): #neurona de CO4\n",
    "        for k in range(0, pesosCO4.shape[1]): #Salida de la CO4\n",
    "          pesosCO4[j][k]+=factorAprendizaje*errorC4*entradaNetaC4[j]\n",
    "      # \n",
    "      # actualizar las tendencias 4\n",
    "      for j in range(0, tendenciasC4.shape[0]):\n",
    "        tendenciasC4[j]+=factorAprendizaje*errorC4*(-1)\n",
    "        \n",
    "      #pesos capa oculta 3\n",
    "      for j in range(0, pesosCO3.shape[0]): #neurona de CO3\n",
    "        for k in range(0, pesosCO3.shape[1]): #Salida de la CO2\n",
    "          pesosCO3[j][k]+=factorAprendizaje*errorC3*entradaNetaC3[j]\n",
    "      # \n",
    "      # actualizar las tendencias 3\n",
    "      for j in range(0, tendenciasC3.shape[0]):\n",
    "        tendenciasC3[j]+=factorAprendizaje*errorC3*(-1)\n",
    "\n",
    "      #pesos capa oculta 2\n",
    "      for j in range(0, pesosCO2.shape[0]): #neurona de CO2\n",
    "        for k in range(0, pesosCO2.shape[1]): #Salida de la CO1\n",
    "          pesosCO2[j][k]+=factorAprendizaje*errorC2*entradaNetaC2[j]\n",
    "      # \n",
    "      # actualizar las tendencias 2\n",
    "      for j in range(0, tendenciasC2.shape[0]):\n",
    "        tendenciasC2[j]+=factorAprendizaje*errorC2*(-1)\n",
    "\n",
    "      # Pesos capa oculta 1\n",
    "      for j in range(0, pesosCO1.shape[0]):\n",
    "        for k in range(0, pesosCO1.shape[1]):\n",
    "          pesosCO1[j][k]+=factorAprendizaje*errorC1*entradaNetaC1[j]\n",
    "\n",
    "      #Actualizar las tendencias 1\n",
    "      for j in range(0,tendenciasC1.shape[0]):\n",
    "        tendenciasC1[j]+=factorAprendizaje*errorC1*(-1)\n",
    "\n",
    "    if errorIt < errorAnt:\n",
    "      factorAprendizaje*=alpha\n",
    "  else:\n",
    "    factorAprendizaje*=rho\n",
    "  errorAnt=errorIt\n",
    "  return pesosCS, pesosCO1, pesosCO2, pesosCO3,pesosCO4, tendenciasC1, tendenciasC2, tendenciasC3,tendenciasC4, tendenciasCS, errorVec"
   ]
  },
  {
   "cell_type": "code",
   "execution_count": 133,
   "metadata": {},
   "outputs": [],
   "source": [
    "# parametros\n",
    "neuronasC1=3\n",
    "neuronasC2=7 #2n+1 Regla de Kolmorogov\n",
    "neuronasC3=0\n",
    "neuronasC4=7\n",
    "factorAprendizaje=0.6\n",
    "alpha=1.05 # aumentar el factor de aprendizaje \n",
    "rho=0.90 #disminuir el factor de aprendizaje\n",
    "max_it=50\n",
    "error=0.5"
   ]
  },
  {
   "cell_type": "code",
   "execution_count": 134,
   "metadata": {},
   "outputs": [],
   "source": [
    "# x_train, x_test, y_train, y_test\n",
    "pesosCS, pesosCO1, pesosCO2, pesosCO3,pesosCO4, tc1, tc2, tc3,tc4, tcs, errorVec=backpropagation(\n",
    "    x_train, y_train,factorAprendizaje, error, max_it, alpha, rho, neuronasC1, neuronasC2, neuronasC3,neuronasC4)"
   ]
  },
  {
   "cell_type": "code",
   "execution_count": 135,
   "metadata": {},
   "outputs": [
    {
     "data": {
      "text/plain": [
       "Text(0.5, 1.0, 'Error de entrenamiento')"
      ]
     },
     "execution_count": 135,
     "metadata": {},
     "output_type": "execute_result"
    },
    {
     "data": {
      "image/png": "[encoded data removed]",
      "text/plain": [
       "<Figure size 432x288 with 1 Axes>"
      ]
     },
     "metadata": {
      "needs_background": "light"
     },
     "output_type": "display_data"
    }
   ],
   "source": [
    "import matplotlib.pyplot as plt\n",
    "plt.plot(errorVec)\n",
    "plt.title(\"Error de entrenamiento\")"
   ]
  },
  {
   "cell_type": "code",
   "execution_count": null,
   "metadata": {},
   "outputs": [],
   "source": []
  }
 ],
 "metadata": {
  "colab": {
   "name": "RK_uni.ipynb",
   "provenance": []
  },
  "kernelspec": {
   "display_name": "Python 3 (ipykernel)",
   "language": "python",
   "name": "python3"
  },
  "language_info": {
   "codemirror_mode": {
    "name": "ipython",
    "version": 3
   },
   "file_extension": ".py",
   "mimetype": "text/x-python",
   "name": "python",
   "nbconvert_exporter": "python",
   "pygments_lexer": "ipython3",
   "version": "3.9.12"
  }
 },
 "nbformat": 4,
 "nbformat_minor": 4
}
